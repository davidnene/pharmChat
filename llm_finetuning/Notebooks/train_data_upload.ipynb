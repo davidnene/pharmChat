{
 "cells": [
  {
   "cell_type": "code",
   "execution_count": 1,
   "metadata": {},
   "outputs": [
    {
     "name": "stdout",
     "output_type": "stream",
     "text": [
      "Collecting datasets\n",
      "  Downloading datasets-2.20.0-py3-none-any.whl (547 kB)\n",
      "     -------------------------------------- 547.8/547.8 kB 1.1 MB/s eta 0:00:00\n",
      "Requirement already satisfied: transformers in d:\\mscdsa\\project\\pharmachat\\.venv\\lib\\site-packages (4.40.1)\n",
      "Requirement already satisfied: huggingface_hub in d:\\mscdsa\\project\\pharmachat\\.venv\\lib\\site-packages (0.22.2)\n",
      "Requirement already satisfied: pyyaml>=5.1 in d:\\mscdsa\\project\\pharmachat\\.venv\\lib\\site-packages (from datasets) (6.0.1)\n",
      "Requirement already satisfied: numpy>=1.17 in d:\\mscdsa\\project\\pharmachat\\.venv\\lib\\site-packages (from datasets) (1.26.4)\n",
      "Collecting dill<0.3.9,>=0.3.0\n",
      "  Downloading dill-0.3.8-py3-none-any.whl (116 kB)\n",
      "     -------------------------------------- 116.3/116.3 kB 6.6 MB/s eta 0:00:00\n",
      "Collecting xxhash\n",
      "  Downloading xxhash-3.4.1-cp310-cp310-win_amd64.whl (29 kB)\n",
      "Requirement already satisfied: packaging in d:\\mscdsa\\project\\pharmachat\\.venv\\lib\\site-packages (from datasets) (23.2)\n",
      "Collecting pandas\n",
      "  Using cached pandas-2.2.2-cp310-cp310-win_amd64.whl (11.6 MB)\n",
      "Collecting pyarrow>=15.0.0\n",
      "  Downloading pyarrow-16.1.0-cp310-cp310-win_amd64.whl (25.9 MB)\n",
      "     -------------------------------------- 25.9/25.9 MB 209.9 kB/s eta 0:00:00\n",
      "Collecting requests>=2.32.2\n",
      "  Downloading requests-2.32.3-py3-none-any.whl (64 kB)\n",
      "     -------------------------------------- 64.9/64.9 kB 269.4 kB/s eta 0:00:00\n",
      "Requirement already satisfied: filelock in d:\\mscdsa\\project\\pharmachat\\.venv\\lib\\site-packages (from datasets) (3.14.0)\n",
      "Requirement already satisfied: fsspec[http]<=2024.5.0,>=2023.1.0 in d:\\mscdsa\\project\\pharmachat\\.venv\\lib\\site-packages (from datasets) (2024.3.1)\n",
      "Collecting multiprocess\n",
      "  Downloading multiprocess-0.70.16-py310-none-any.whl (134 kB)\n",
      "     ------------------------------------ 134.8/134.8 kB 266.2 kB/s eta 0:00:00\n",
      "Requirement already satisfied: aiohttp in d:\\mscdsa\\project\\pharmachat\\.venv\\lib\\site-packages (from datasets) (3.9.5)\n",
      "Collecting tqdm>=4.66.3\n",
      "  Downloading tqdm-4.66.4-py3-none-any.whl (78 kB)\n",
      "     -------------------------------------- 78.3/78.3 kB 272.1 kB/s eta 0:00:00\n",
      "Collecting pyarrow-hotfix\n",
      "  Downloading pyarrow_hotfix-0.6-py3-none-any.whl (7.9 kB)\n",
      "Requirement already satisfied: tokenizers<0.20,>=0.19 in d:\\mscdsa\\project\\pharmachat\\.venv\\lib\\site-packages (from transformers) (0.19.1)\n",
      "Requirement already satisfied: regex!=2019.12.17 in d:\\mscdsa\\project\\pharmachat\\.venv\\lib\\site-packages (from transformers) (2024.4.28)\n",
      "Requirement already satisfied: safetensors>=0.4.1 in d:\\mscdsa\\project\\pharmachat\\.venv\\lib\\site-packages (from transformers) (0.4.3)\n",
      "Requirement already satisfied: typing-extensions>=3.7.4.3 in d:\\mscdsa\\project\\pharmachat\\.venv\\lib\\site-packages (from huggingface_hub) (4.11.0)\n",
      "Requirement already satisfied: aiosignal>=1.1.2 in d:\\mscdsa\\project\\pharmachat\\.venv\\lib\\site-packages (from aiohttp->datasets) (1.3.1)\n",
      "Requirement already satisfied: async-timeout<5.0,>=4.0 in d:\\mscdsa\\project\\pharmachat\\.venv\\lib\\site-packages (from aiohttp->datasets) (4.0.3)\n",
      "Requirement already satisfied: multidict<7.0,>=4.5 in d:\\mscdsa\\project\\pharmachat\\.venv\\lib\\site-packages (from aiohttp->datasets) (6.0.5)\n",
      "Requirement already satisfied: yarl<2.0,>=1.0 in d:\\mscdsa\\project\\pharmachat\\.venv\\lib\\site-packages (from aiohttp->datasets) (1.9.4)\n",
      "Requirement already satisfied: attrs>=17.3.0 in d:\\mscdsa\\project\\pharmachat\\.venv\\lib\\site-packages (from aiohttp->datasets) (23.2.0)\n",
      "Requirement already satisfied: frozenlist>=1.1.1 in d:\\mscdsa\\project\\pharmachat\\.venv\\lib\\site-packages (from aiohttp->datasets) (1.4.1)\n",
      "Requirement already satisfied: certifi>=2017.4.17 in d:\\mscdsa\\project\\pharmachat\\.venv\\lib\\site-packages (from requests>=2.32.2->datasets) (2024.2.2)\n",
      "Requirement already satisfied: urllib3<3,>=1.21.1 in d:\\mscdsa\\project\\pharmachat\\.venv\\lib\\site-packages (from requests>=2.32.2->datasets) (2.2.1)\n",
      "Requirement already satisfied: idna<4,>=2.5 in d:\\mscdsa\\project\\pharmachat\\.venv\\lib\\site-packages (from requests>=2.32.2->datasets) (3.7)\n",
      "Requirement already satisfied: charset-normalizer<4,>=2 in d:\\mscdsa\\project\\pharmachat\\.venv\\lib\\site-packages (from requests>=2.32.2->datasets) (3.3.2)\n",
      "Requirement already satisfied: colorama in d:\\mscdsa\\project\\pharmachat\\.venv\\lib\\site-packages (from tqdm>=4.66.3->datasets) (0.4.6)\n",
      "Collecting tzdata>=2022.7\n",
      "  Using cached tzdata-2024.1-py2.py3-none-any.whl (345 kB)\n",
      "Requirement already satisfied: pytz>=2020.1 in d:\\mscdsa\\project\\pharmachat\\.venv\\lib\\site-packages (from pandas->datasets) (2024.1)\n",
      "Requirement already satisfied: python-dateutil>=2.8.2 in d:\\mscdsa\\project\\pharmachat\\.venv\\lib\\site-packages (from pandas->datasets) (2.9.0.post0)\n",
      "Requirement already satisfied: six>=1.5 in d:\\mscdsa\\project\\pharmachat\\.venv\\lib\\site-packages (from python-dateutil>=2.8.2->pandas->datasets) (1.16.0)\n",
      "Installing collected packages: xxhash, tzdata, tqdm, requests, pyarrow-hotfix, pyarrow, dill, pandas, multiprocess, datasets\n",
      "  Attempting uninstall: tqdm\n",
      "    Found existing installation: tqdm 4.66.2\n",
      "    Uninstalling tqdm-4.66.2:\n",
      "      Successfully uninstalled tqdm-4.66.2\n",
      "  Attempting uninstall: requests\n",
      "    Found existing installation: requests 2.31.0\n",
      "    Uninstalling requests-2.31.0:\n",
      "      Successfully uninstalled requests-2.31.0\n",
      "Successfully installed datasets-2.20.0 dill-0.3.8 multiprocess-0.70.16 pandas-2.2.2 pyarrow-16.1.0 pyarrow-hotfix-0.6 requests-2.32.3 tqdm-4.66.4 tzdata-2024.1 xxhash-3.4.1\n",
      "Note: you may need to restart the kernel to use updated packages.\n"
     ]
    },
    {
     "name": "stderr",
     "output_type": "stream",
     "text": [
      "\n",
      "[notice] A new release of pip available: 22.2.1 -> 24.0\n",
      "[notice] To update, run: python.exe -m pip install --upgrade pip\n"
     ]
    }
   ],
   "source": [
    "pip install datasets transformers huggingface_hub"
   ]
  },
  {
   "cell_type": "code",
   "execution_count": 4,
   "metadata": {},
   "outputs": [
    {
     "name": "stdout",
     "output_type": "stream",
     "text": [
      "^C\n"
     ]
    }
   ],
   "source": [
    "!huggingface-cli login"
   ]
  },
  {
   "cell_type": "code",
   "execution_count": 5,
   "metadata": {},
   "outputs": [
    {
     "data": {
      "application/vnd.jupyter.widget-view+json": {
       "model_id": "8b1b9f199d25403790a320e0e7462795",
       "version_major": 2,
       "version_minor": 0
      },
      "text/plain": [
       "Generating train split: 0 examples [00:00, ? examples/s]"
      ]
     },
     "metadata": {},
     "output_type": "display_data"
    },
    {
     "data": {
      "application/vnd.jupyter.widget-view+json": {
       "model_id": "df65452d1a6444ed970bda66cf8fb291",
       "version_major": 2,
       "version_minor": 0
      },
      "text/plain": [
       "Generating train split: 0 examples [00:00, ? examples/s]"
      ]
     },
     "metadata": {},
     "output_type": "display_data"
    },
    {
     "data": {
      "application/vnd.jupyter.widget-view+json": {
       "model_id": "6c7e07a895524724ad788f94255a1f34",
       "version_major": 2,
       "version_minor": 0
      },
      "text/plain": [
       "Generating train split: 0 examples [00:00, ? examples/s]"
      ]
     },
     "metadata": {},
     "output_type": "display_data"
    }
   ],
   "source": [
    "from datasets import load_dataset\n",
    "\n",
    "# Load the train, test, and validation datasets\n",
    "train_dataset = load_dataset('parquet', data_files='Data/train-00000-of-00001.parquet')['train']\n",
    "test_dataset = load_dataset('parquet', data_files='Data/test-00000-of-00001.parquet')['train']\n",
    "val_dataset = load_dataset('parquet', data_files='Data/valid-00000-of-00001.parquet')['train']\n"
   ]
  },
  {
   "cell_type": "code",
   "execution_count": 7,
   "metadata": {},
   "outputs": [],
   "source": [
    "# Combine the Datasets into a DatasetDict\n",
    "\n",
    "from datasets import DatasetDict\n",
    "\n",
    "dataset_dict = DatasetDict({\n",
    "    \"train\": train_dataset,\n",
    "    \"test\": test_dataset,\n",
    "    \"valid\": val_dataset\n",
    "})\n"
   ]
  },
  {
   "cell_type": "code",
   "execution_count": 9,
   "metadata": {},
   "outputs": [
    {
     "data": {
      "text/plain": [
       "RepoUrl('https://huggingface.co/datasets/davidnene/meditron-finetune-v1', endpoint='https://huggingface.co', repo_type='dataset', repo_id='davidnene/meditron-finetune-v1')"
      ]
     },
     "execution_count": 9,
     "metadata": {},
     "output_type": "execute_result"
    }
   ],
   "source": [
    "from huggingface_hub import HfApi\n",
    "\n",
    "api = HfApi()\n",
    "api.create_repo(repo_id='davidnene/meditron-finetune-v1', repo_type='dataset')\n"
   ]
  },
  {
   "cell_type": "code",
   "execution_count": 10,
   "metadata": {},
   "outputs": [
    {
     "data": {
      "application/vnd.jupyter.widget-view+json": {
       "model_id": "666bf75c04e54b9595505a1eb7ed2b77",
       "version_major": 2,
       "version_minor": 0
      },
      "text/plain": [
       "Uploading the dataset shards:   0%|          | 0/1 [00:00<?, ?it/s]"
      ]
     },
     "metadata": {},
     "output_type": "display_data"
    },
    {
     "data": {
      "application/vnd.jupyter.widget-view+json": {
       "model_id": "e8060bb068544e20a4e9df984c67d103",
       "version_major": 2,
       "version_minor": 0
      },
      "text/plain": [
       "Creating parquet from Arrow format:   0%|          | 0/9 [00:00<?, ?ba/s]"
      ]
     },
     "metadata": {},
     "output_type": "display_data"
    },
    {
     "data": {
      "application/vnd.jupyter.widget-view+json": {
       "model_id": "931288f5b52f4cdd86eb785327482898",
       "version_major": 2,
       "version_minor": 0
      },
      "text/plain": [
       "Uploading the dataset shards:   0%|          | 0/1 [00:00<?, ?it/s]"
      ]
     },
     "metadata": {},
     "output_type": "display_data"
    },
    {
     "data": {
      "application/vnd.jupyter.widget-view+json": {
       "model_id": "a7b0cab8a6a5461087610313678882e6",
       "version_major": 2,
       "version_minor": 0
      },
      "text/plain": [
       "Creating parquet from Arrow format:   0%|          | 0/9 [00:00<?, ?ba/s]"
      ]
     },
     "metadata": {},
     "output_type": "display_data"
    },
    {
     "data": {
      "application/vnd.jupyter.widget-view+json": {
       "model_id": "937e557f7a8044618e61b5c8846354c1",
       "version_major": 2,
       "version_minor": 0
      },
      "text/plain": [
       "Uploading the dataset shards:   0%|          | 0/1 [00:00<?, ?it/s]"
      ]
     },
     "metadata": {},
     "output_type": "display_data"
    },
    {
     "data": {
      "application/vnd.jupyter.widget-view+json": {
       "model_id": "0ac75bdfecbc422a97560c56c88abca6",
       "version_major": 2,
       "version_minor": 0
      },
      "text/plain": [
       "Creating parquet from Arrow format:   0%|          | 0/9 [00:00<?, ?ba/s]"
      ]
     },
     "metadata": {},
     "output_type": "display_data"
    },
    {
     "data": {
      "text/plain": [
       "CommitInfo(commit_url='https://huggingface.co/datasets/davidnene/meditron-finetune-v1/commit/a5238befd6904bc8c65d3167f0b6dce4e7096115', commit_message='Upload dataset', commit_description='', oid='a5238befd6904bc8c65d3167f0b6dce4e7096115', pr_url=None, pr_revision=None, pr_num=None)"
      ]
     },
     "execution_count": 10,
     "metadata": {},
     "output_type": "execute_result"
    }
   ],
   "source": [
    "dataset_dict.push_to_hub(\"davidnene/meditron-finetune-v1\")"
   ]
  },
  {
   "cell_type": "markdown",
   "metadata": {},
   "source": [
    "[-0.018093035,-0.01598954,-0.029202534,-0.009643655,-0.00876893,0.053711195,0.028047651,0.027058724,0.05304225,-0.04857843,-0.0070147654,0.022448244,-0.015353665,-0.0118452795,0.023646178,-0.01621877,0.032520637,0.043740913,0.012390325,-0.004526646,-0.062104113,0.015927283,-0.06153009,0.020210816,0.05207938,0.050160993,-0.059643667,-0.012974678,-0.040267322,-0.048412334,-0.013399741,-0.048190642,0.032949932,0.013586095,0.023861835,-0.025768759,-0.079262935,0.039514896,-0.0201736,0.00043983618,-0.03201127,-0.039154835,-0.017787324,-0.023751594,-0.03037501,-0.007995382,0.046312246,-0.004045079,-0.07012955,-0.0058107954,-0.0073709777,-0.0037676808,-0.060788598,0.019876271,-0.0822953,-0.016746996,0.0077740327,-0.030353932,-0.047321074,-0.004439224,-0.03138366,-0.00051686005,0.031119065,-0.031330664,-0.024466455,-0.0054443846,0.007702818,0.07230444,0.022304159,-0.017621646,0.013787091,0.053408366,0.0064790086,0.043664586,-0.036827214,0.02943355,-0.026135603,-0.0068771266,0.012617848,-0.040363364,0.05886231,0.004708161,0.00058898504,-0.004706218,0.012587792,0.028535096,0.023859546,-0.01887961,-0.014790856,0.016122922,-0.074215695,-0.01582701,0.0183358,0.060098466,-0.045701407,0.0022834952,-0.0063966257,-0.03969,0.064785436,0.012309237,-0.034256276,0.03853521,-0.011787193,-0.028047388,-0.02030442,0.02939776,0.0040817014,-0.020650525,-0.019687988,0.046715602,-0.025428215,-0.010353186,-0.0012201308,0.018887134,0.06053435,-0.038980387,-0.004865212,-0.031712506,0.036867484,-0.056463517,-0.024899596,-0.03435064,-0.009760719,-0.04807111,0.038778897,-0.00024806237,0.01612914,-0.0071855374,0.0926123,0.034161005,-0.020550136,0.057093073,-0.056140784,0.023327008,-0.037697118,0.031559944,0.049650967,-0.009830994,0.025038563,-0.0047750934,0.024959337,-0.022816375,0.012213454,0.0154373925,0.111372985,-0.029319443,0.015187445,0.043782417,0.0010810574,0.06935633,-0.020210192,-0.08106345,0.06212846,0.0073978766,-0.028568124,-0.045802344,-0.0075458423,0.0085822595,-0.0124250855,-0.008737771,-0.005816554,0.01021666,-0.009143867,-0.0010565144,0.012112985,0.017652946,-0.052299336,0.014185254,-0.004457765,0.029604277,-0.012528162,0.017716032,0.02160989,-0.019009165,0.009247129,0.07059192,-0.029621363,0.027002083,0.013148541,0.008568457,-0.052581865,-0.10214999,0.022923855,0.10498478,-0.012900424,0.053914852,-0.051280998,-0.039997224,0.0050643245,0.0072374535,-0.0025371443,-0.10338261,0.0063648573,-0.05411154,0.029785408,0.014806501,0.012634625,-0.021370063,0.030449174,-0.020149842,-0.023608947,-0.0090306485,-0.00657357,0.04152887,0.016021593,-0.010427642,-0.033793345,0.06302985,0.014347648,0.0072625023,-0.030942848,0.041093193,-0.03635576,-0.015732124,0.030208498,0.037709318,-0.064652905,-0.03371355,0.046297524,0.0043624504,-0.06251693,-0.045764722,-0.0455737,-0.018340912,0.028517062,-0.0017287221,0.0036675718,-0.026604775,-0.0099119255,-0.037922665,-0.010623502,0.03952277,0.03604875,-0.04555659,-0.020053554,0.03057081,0.028615572,0.05743009,0.010313437,0.0015118981,-0.046852045,0.0012044163,-0.013291703,-0.018696055,-0.046301544,0.04730154,0.002526194,-0.042880356,-0.010716964,0.013767799,0.06634878,-0.00896559,-0.057593256,0.0070347893,-0.03272825,0.021135543,0.016006738,-0.015799543,-0.032112464,-0.0021611196,0.015761452,0.026185814,0.029584823,0.014603096,0.004109048,0.06396935,-0.0074023884,0.059710134,-0.005653432,0.04419913,-0.046806194,0.059716288,0.017073164,-0.016206503,-0.058771808,-0.03399336,0.03649596,0.031482697,0.030782104,-0.038691323,-0.04980044,0.03155268,-0.047675334,-0.018178493,0.026589766,-0.06424658,-0.019902265,0.0036415206,-0.03744002,-0.000112330825,0.03706719,0.0011915107,0.07305881,-0.044901557,0.002142612,0.00052770076,-0.020818923,-0.05308066,0.036027692,0.0031478305,0.0019807203,-0.055151172,0.06500788,-0.04318273,-0.041924328,0.02290604,0.0107023725,0.0315178,0.00096901314,-0.032691788,-0.067991585,-0.042057287,0.0324267,0.08638971,0.019995155,0.012582027,-0.018637534,0.014873034,-0.005855103,0.074316114,0.06816483,-0.034090165,0.032252893,0.034251254,-0.014049536,-0.040194377,0.009990697,0.0022088275,-0.0079002585,0.007280289,0.011984555,0.016259667,-0.022585746,0.019436117,-0.038728118,0.0049315584,-0.0065219305,0.05654936,0.053796403,-0.0040761116,0.024640149,-0.025630048,-0.013176935,0.060272392,0.007109448,0.031623587,0.006384516,-0.00033027356,-0.0071234256,0.049232274,-0.0062648766,0.014516225,0.020709075,0.00047873208,-0.034371983,0.014242165,0.053251684,0.07717023,-0.026852075,0.08070912,0.007022018,-0.006701559,0.037916973,0.010656011,0.002836086,-0.043299638,-0.015137603,-0.053871714,-0.01831034,-0.056194525,0.020983236,-0.014838044,0.021404907,0.009124198,0.028978314,-0.003682384,0.026646728,-0.084625706,0.0045505315,-0.05793894,-0.019429188,-0.04383075,0.0111670615,0.041566975,0.06898121,-0.0026862125,0.015532264,-0.008374427,-0.021162877,-0.025372857,0.026661076,0.03452234,-0.058673218,0.006196848,-0.03976649,0.031661585,-0.016889362,-0.014091215,0.0049627926,0.038254287,0.08674727,0.03365494,-0.0047056735,0.027313758,0.00655571,-0.03311159,0.009292322,-0.072487615,-0.003926006,-0.027715234,-0.0014337297,-0.033880983,0.01713393,-0.009765484,0.04690173,-0.047724422,-0.068717375,0.013503839,0.02341315,0.02651415,0.022402445,-0.011501939,-0.061159093,-0.02730929,-0.052352123,0.08467246,0.012399328,0.030324332,-0.030252608,-0.0054949094,0.041494377,0.031906802,0.0090680355,-0.03308902,-0.029747056,0.0076963375,-0.03246291,0.0593189,-0.030849375,-0.014789614,-0.03753976,-0.03715106,-0.0022274386,0.057176583,0.029365085,-0.041745212,0.0004761576,0.0043028286,0.06027299,-0.047802825,-0.06592024,0.014931347,0.014363075,0.013203823,-0.04489331,0.0033090839,-0.04833666,0.012064697,-0.023651756,-0.0080776885,-0.019513724,-0.043808218,0.009437083,0.028325228,-0.0011224054,0.004522799,0.05288717,-0.06716491,-0.10844724,-0.009328812,0.012188421,0.012733714,-0.0347145,-0.020383155,0.031454597,-0.049116094,-0.0015847347,-0.040623046,0.07637978,-0.015611581,-0.005958478,0.004257474,-0.00524231,0.023035819,-0.030667337,-0.013215092,-0.046612777,0.0047499794,-0.046996906,0.020068323,0.11161194,0.0041770474,-0.025464173,-0.06443075,0.02585249,0.0044066063,-0.06828825,0.0076664397,0.038671687,-0.004949371,-0.059511382,-0.031827226,0.062515914,-0.019161878,-0.06700458,-0.0047241515,-0.059991483,-0.026969504,-0.03285889,0.07934506,-0.023594439,-0.023516592,-0.02497887,0.017360875,0.015526223,0.035810456,0.06578409,0.042000532,0.039437894,-0.0045081484,-0.0046408903,-0.013383935,0.040034607,-0.055232435,-0.080332346,0.04438645,-0.024878142,-0.00443814,0.0010805824,-0.06701741,-0.043259796,0.0029988787,0.011605554,-0.026645426,0.004071672,0.0065808515,-0.05337955,0.024438832,-0.031510305,0.0035484838,-0.009257901,0.057289936,-0.027280403,0.035909217,-0.058543682,-0.06768079,0.02171327,0.0016648667,0.0014161365,0.026451156,-0.03881592,-0.024041334,0.0049713184,0.023824194,0.012544272,0.0087975245,0.009432917,-0.0918711,0.04363541,0.025004452,0.016681023,0.031031987,-0.027026761,-0.0023732907,-0.002247136,0.0104807615,-0.062065244,0.008539533,-0.010957997,0.048229925,0.022564342,-0.01838062,0.062031005,-0.00023255468,0.0033608526,0.031050269,0.006868611,0.027469587,-0.0056160972,-0.042751346,-0.064928085,-0.01281489,-0.010728074,-0.044366635,-0.032860544,0.01033575,0.06252555,0.059390035,-0.030805651,-0.012954357,-0.01951476,-0.035205837,0.02326359,-0.024278494,-0.056819078,-0.006746519,0.0021992433,-0.04775497,-0.0019048458,0.0098859165,-0.022791605,0.031941447,0.0035213295,0.016968234,-0.002497175,-0.0009660089,-0.029231753,-0.0133383125,0.048816457,0.010249567,0.030972151,-0.06610871,-0.0044131735,0.010192276,-0.057814017,-0.030433888,0.013332866,-0.024663627,0.00435621,0.06173975,-0.044960715,0.0011329409,-0.006185736,-0.03480756,0.04368796,0.029742982,-0.023935787,0.058391962,0.03458449,-0.015284746,0.0128502855,-0.016697219,0.0073134885,0.07399586,0.03906855,0.0037595374,0.02781975,-0.046066493,-0.060075935,0.015613842,0.003718027,-0.015060363,0.024357578,-0.021917395,0.025636923,0.002893577,-0.03474107,0.021375313,-0.03052013,-0.11203982,0.03515797,-0.048491288,-0.07604839,-0.022591576,0.029370653,0.0110491915,0.075423405,-0.040168963,-0.053388733,-0.043456513,0.013188826,0.010240425,0.07549551,0.049975928,0.018914567,0.02374817,-0.02483444,-0.04492046,-0.05129043,0.0046767867,0.0023338345,0.0130649675,-0.031894013,0.0020120842,-0.05600717,-0.03855604,0.0050015757,0.034973808,0.07547565,-0.014554388,-0.03757644,-0.036076892,0.020481275,0.021981714,-0.03672478,0.035317745,-0.018987231,0.05691918,-0.044477463,0.020214943,0.0635456,-0.036844037,0.068267174,-0.0046360153,0.015380882,-0.034022316,-0.01893142,0.063881,-0.030234765,-0.059754025,-0.019585049,0.018578181,-0.03729254,-0.007616383,-0.029051775,-0.007321504,0.014121483,-0.009368209,0.039497204,0.0013318699,-0.032013703,0.017331157,-0.012646207,0.017541688,0.031531572,-0.022919456,0.049473904,-0.005345281,0.021331254,-0.00263427,-0.0005300849,0.026750518,0.058912974,0.024004266,0.018411215,-0.0016580407,0.020499017,0.014866127,-0.06365529,0.0001421884,-0.009474324,0.0034466882,0.009595666,0.01645651,-0.047600057,-0.06244501,0.0010051404,0.018134056,-0.0061133844,0.039298974,-0.025430411,-0.09093235,0.039918493,-0.053879425,-0.06742739,0.030936,-0.006905754,-0.00987889,0.021346638,-0.029683229,0.02238218,0.032606386,-0.036845345,-0.0073393127,0.0077611255,0.012092922,0.028354384,0.030909996,-0.045414165,0.03584452,-0.040648915,0.020736117,0.020074582,-0.03078671,0.026694134,0.055191692,0.013909449,-0.035627376]"
   ]
  }
 ],
 "metadata": {
  "kernelspec": {
   "display_name": ".venv",
   "language": "python",
   "name": "python3"
  },
  "language_info": {
   "codemirror_mode": {
    "name": "ipython",
    "version": 3
   },
   "file_extension": ".py",
   "mimetype": "text/x-python",
   "name": "python",
   "nbconvert_exporter": "python",
   "pygments_lexer": "ipython3",
   "version": "3.10.6"
  }
 },
 "nbformat": 4,
 "nbformat_minor": 2
}
