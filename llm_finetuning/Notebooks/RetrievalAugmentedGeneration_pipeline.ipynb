{
  "cells": [
    {
      "cell_type": "markdown",
      "metadata": {
        "id": "uNfZ_bp9JVib"
      },
      "source": [
        "### Install requires packages"
      ]
    },
    {
      "cell_type": "code",
      "execution_count": 1,
      "metadata": {
        "colab": {
          "base_uri": "https://localhost:8080/"
        },
        "id": "SyrssGlWhAsj",
        "outputId": "25b5d1ba-3bd6-476f-b2c9-8c2dcdc79bc0"
      },
      "outputs": [
        {
          "name": "stdout",
          "output_type": "stream",
          "text": [
            "\u001b[2K     \u001b[90m━━━━━━━━━━━━━━━━━━━━━━━━━━━━━━━━━━━━━━━━\u001b[0m \u001b[32m50.4/50.4 kB\u001b[0m \u001b[31m3.3 MB/s\u001b[0m eta \u001b[36m0:00:00\u001b[0m\n",
            "\u001b[2K   \u001b[90m━━━━━━━━━━━━━━━━━━━━━━━━━━━━━━━━━━━━━━━━\u001b[0m \u001b[32m990.3/990.3 kB\u001b[0m \u001b[31m51.9 MB/s\u001b[0m eta \u001b[36m0:00:00\u001b[0m\n",
            "\u001b[2K   \u001b[90m━━━━━━━━━━━━━━━━━━━━━━━━━━━━━━━━━━━━━━━━\u001b[0m \u001b[32m295.8/295.8 kB\u001b[0m \u001b[31m24.7 MB/s\u001b[0m eta \u001b[36m0:00:00\u001b[0m\n",
            "\u001b[2K   \u001b[90m━━━━━━━━━━━━━━━━━━━━━━━━━━━━━━━━━━━━━━━━\u001b[0m \u001b[32m232.6/232.6 kB\u001b[0m \u001b[31m20.8 MB/s\u001b[0m eta \u001b[36m0:00:00\u001b[0m\n",
            "\u001b[2K   \u001b[90m━━━━━━━━━━━━━━━━━━━━━━━━━━━━━━━━━━━━━━━━\u001b[0m \u001b[32m254.1/254.1 kB\u001b[0m \u001b[31m18.9 MB/s\u001b[0m eta \u001b[36m0:00:00\u001b[0m\n",
            "\u001b[2K   \u001b[90m━━━━━━━━━━━━━━━━━━━━━━━━━━━━━━━━━━━━━━━━\u001b[0m \u001b[32m227.1/227.1 kB\u001b[0m \u001b[31m20.2 MB/s\u001b[0m eta \u001b[36m0:00:00\u001b[0m\n",
            "\u001b[2K   \u001b[90m━━━━━━━━━━━━━━━━━━━━━━━━━━━━━━━━━━━━━━━━\u001b[0m \u001b[32m1.1/1.1 MB\u001b[0m \u001b[31m60.3 MB/s\u001b[0m eta \u001b[36m0:00:00\u001b[0m\n",
            "\u001b[2K   \u001b[90m━━━━━━━━━━━━━━━━━━━━━━━━━━━━━━━━━━━━━━━━\u001b[0m \u001b[32m2.3/2.3 MB\u001b[0m \u001b[31m86.1 MB/s\u001b[0m eta \u001b[36m0:00:00\u001b[0m\n",
            "\u001b[2K   \u001b[90m━━━━━━━━━━━━━━━━━━━━━━━━━━━━━━━━━━━━━━━━\u001b[0m \u001b[32m5.7/5.7 MB\u001b[0m \u001b[31m109.3 MB/s\u001b[0m eta \u001b[36m0:00:00\u001b[0m\n",
            "\u001b[2K   \u001b[90m━━━━━━━━━━━━━━━━━━━━━━━━━━━━━━━━━━━━━━━━\u001b[0m \u001b[32m75.6/75.6 kB\u001b[0m \u001b[31m7.3 MB/s\u001b[0m eta \u001b[36m0:00:00\u001b[0m\n",
            "\u001b[2K   \u001b[90m━━━━━━━━━━━━━━━━━━━━━━━━━━━━━━━━━━━━━━━━\u001b[0m \u001b[32m77.9/77.9 kB\u001b[0m \u001b[31m7.2 MB/s\u001b[0m eta \u001b[36m0:00:00\u001b[0m\n",
            "\u001b[2K   \u001b[90m━━━━━━━━━━━━━━━━━━━━━━━━━━━━━━━━━━━━━━━━\u001b[0m \u001b[32m374.2/374.2 kB\u001b[0m \u001b[31m30.9 MB/s\u001b[0m eta \u001b[36m0:00:00\u001b[0m\n",
            "\u001b[2K   \u001b[90m━━━━━━━━━━━━━━━━━━━━━━━━━━━━━━━━━━━━━━━━\u001b[0m \u001b[32m139.8/139.8 kB\u001b[0m \u001b[31m13.4 MB/s\u001b[0m eta \u001b[36m0:00:00\u001b[0m\n",
            "\u001b[2K   \u001b[90m━━━━━━━━━━━━━━━━━━━━━━━━━━━━━━━━━━━━━━━━\u001b[0m \u001b[32m57.5/57.5 kB\u001b[0m \u001b[31m397.3 kB/s\u001b[0m eta \u001b[36m0:00:00\u001b[0m\n",
            "\u001b[2K   \u001b[90m━━━━━━━━━━━━━━━━━━━━━━━━━━━━━━━━━━━━━━━━\u001b[0m \u001b[32m141.1/141.1 kB\u001b[0m \u001b[31m11.9 MB/s\u001b[0m eta \u001b[36m0:00:00\u001b[0m\n",
            "\u001b[2K   \u001b[90m━━━━━━━━━━━━━━━━━━━━━━━━━━━━━━━━━━━━━━━━\u001b[0m \u001b[32m309.3/309.3 kB\u001b[0m \u001b[31m25.4 MB/s\u001b[0m eta \u001b[36m0:00:00\u001b[0m\n",
            "\u001b[2K   \u001b[90m━━━━━━━━━━━━━━━━━━━━━━━━━━━━━━━━━━━━━━━━\u001b[0m \u001b[32m58.3/58.3 kB\u001b[0m \u001b[31m5.1 MB/s\u001b[0m eta \u001b[36m0:00:00\u001b[0m\n",
            "\u001b[2K   \u001b[90m━━━━━━━━━━━━━━━━━━━━━━━━━━━━━━━━━━━━━━━━\u001b[0m \u001b[32m21.3/21.3 MB\u001b[0m \u001b[31m23.0 MB/s\u001b[0m eta \u001b[36m0:00:00\u001b[0m\n",
            "\u001b[?25h\u001b[31mERROR: pip's dependency resolver does not currently take into account all the packages that are installed. This behaviour is the source of the following dependency conflicts.\n",
            "cudf-cu12 24.4.1 requires protobuf<5,>=3.20, but you have protobuf 5.27.2 which is incompatible.\n",
            "google-ai-generativelanguage 0.6.6 requires protobuf!=3.20.0,!=3.20.1,!=4.21.0,!=4.21.1,!=4.21.2,!=4.21.3,!=4.21.4,!=4.21.5,<5.0.0dev,>=3.19.5, but you have protobuf 5.27.2 which is incompatible.\n",
            "google-cloud-aiplatform 1.59.0 requires protobuf!=3.20.0,!=3.20.1,!=4.21.0,!=4.21.1,!=4.21.2,!=4.21.3,!=4.21.4,!=4.21.5,<5.0.0dev,>=3.19.5, but you have protobuf 5.27.2 which is incompatible.\n",
            "google-cloud-bigquery-storage 2.25.0 requires protobuf!=3.20.0,!=3.20.1,!=4.21.0,!=4.21.1,!=4.21.2,!=4.21.3,!=4.21.4,!=4.21.5,<5.0.0dev,>=3.19.5, but you have protobuf 5.27.2 which is incompatible.\n",
            "google-cloud-bigtable 2.24.0 requires protobuf!=3.20.0,!=3.20.1,!=4.21.0,!=4.21.1,!=4.21.2,!=4.21.3,!=4.21.4,!=4.21.5,<5.0.0dev,>=3.19.5, but you have protobuf 5.27.2 which is incompatible.\n",
            "google-cloud-datastore 2.19.0 requires protobuf!=3.20.0,!=3.20.1,!=4.21.0,!=4.21.1,!=4.21.2,!=4.21.3,!=4.21.4,!=4.21.5,<5.0.0dev,>=3.19.5, but you have protobuf 5.27.2 which is incompatible.\n",
            "google-cloud-firestore 2.16.1 requires protobuf!=3.20.0,!=3.20.1,!=4.21.0,!=4.21.1,!=4.21.2,!=4.21.3,!=4.21.4,!=4.21.5,<5.0.0dev,>=3.19.5, but you have protobuf 5.27.2 which is incompatible.\n",
            "tensorflow 2.15.0 requires protobuf!=4.21.0,!=4.21.1,!=4.21.2,!=4.21.3,!=4.21.4,!=4.21.5,<5.0.0dev,>=3.20.3, but you have protobuf 5.27.2 which is incompatible.\n",
            "tensorflow-metadata 1.15.0 requires protobuf<4.21,>=3.20.3; python_version < \"3.11\", but you have protobuf 5.27.2 which is incompatible.\u001b[0m\u001b[31m\n",
            "\u001b[2K   \u001b[90m━━━━━━━━━━━━━━━━━━━━━━━━━━━━━━━━━━━━━━━━\u001b[0m \u001b[32m2.3/2.3 MB\u001b[0m \u001b[31m75.3 MB/s\u001b[0m eta \u001b[36m0:00:00\u001b[0m\n",
            "\u001b[2K   \u001b[90m━━━━━━━━━━━━━━━━━━━━━━━━━━━━━━━━━━━━━━━━\u001b[0m \u001b[32m49.2/49.2 kB\u001b[0m \u001b[31m4.3 MB/s\u001b[0m eta \u001b[36m0:00:00\u001b[0m\n",
            "\u001b[?25hRequirement already satisfied: qdrant_client in /usr/local/lib/python3.10/dist-packages (1.10.1)\n",
            "Requirement already satisfied: grpcio>=1.41.0 in /usr/local/lib/python3.10/dist-packages (from qdrant_client) (1.65.1)\n",
            "Requirement already satisfied: grpcio-tools>=1.41.0 in /usr/local/lib/python3.10/dist-packages (from qdrant_client) (1.65.1)\n",
            "Requirement already satisfied: httpx>=0.20.0 in /usr/local/lib/python3.10/dist-packages (from httpx[http2]>=0.20.0->qdrant_client) (0.27.0)\n",
            "Requirement already satisfied: numpy>=1.21 in /usr/local/lib/python3.10/dist-packages (from qdrant_client) (1.25.2)\n",
            "Requirement already satisfied: portalocker<3.0.0,>=2.7.0 in /usr/local/lib/python3.10/dist-packages (from qdrant_client) (2.10.1)\n",
            "Requirement already satisfied: pydantic>=1.10.8 in /usr/local/lib/python3.10/dist-packages (from qdrant_client) (2.8.2)\n",
            "Requirement already satisfied: urllib3<3,>=1.26.14 in /usr/local/lib/python3.10/dist-packages (from qdrant_client) (2.0.7)\n",
            "Requirement already satisfied: protobuf<6.0dev,>=5.26.1 in /usr/local/lib/python3.10/dist-packages (from grpcio-tools>=1.41.0->qdrant_client) (5.27.2)\n",
            "Requirement already satisfied: setuptools in /usr/local/lib/python3.10/dist-packages (from grpcio-tools>=1.41.0->qdrant_client) (71.0.4)\n",
            "Requirement already satisfied: anyio in /usr/local/lib/python3.10/dist-packages (from httpx>=0.20.0->httpx[http2]>=0.20.0->qdrant_client) (3.7.1)\n",
            "Requirement already satisfied: certifi in /usr/local/lib/python3.10/dist-packages (from httpx>=0.20.0->httpx[http2]>=0.20.0->qdrant_client) (2024.7.4)\n",
            "Requirement already satisfied: httpcore==1.* in /usr/local/lib/python3.10/dist-packages (from httpx>=0.20.0->httpx[http2]>=0.20.0->qdrant_client) (1.0.5)\n",
            "Requirement already satisfied: idna in /usr/local/lib/python3.10/dist-packages (from httpx>=0.20.0->httpx[http2]>=0.20.0->qdrant_client) (3.7)\n",
            "Requirement already satisfied: sniffio in /usr/local/lib/python3.10/dist-packages (from httpx>=0.20.0->httpx[http2]>=0.20.0->qdrant_client) (1.3.1)\n",
            "Requirement already satisfied: h11<0.15,>=0.13 in /usr/local/lib/python3.10/dist-packages (from httpcore==1.*->httpx>=0.20.0->httpx[http2]>=0.20.0->qdrant_client) (0.14.0)\n",
            "Requirement already satisfied: h2<5,>=3 in /usr/local/lib/python3.10/dist-packages (from httpx[http2]>=0.20.0->qdrant_client) (4.1.0)\n",
            "Requirement already satisfied: annotated-types>=0.4.0 in /usr/local/lib/python3.10/dist-packages (from pydantic>=1.10.8->qdrant_client) (0.7.0)\n",
            "Requirement already satisfied: pydantic-core==2.20.1 in /usr/local/lib/python3.10/dist-packages (from pydantic>=1.10.8->qdrant_client) (2.20.1)\n",
            "Requirement already satisfied: typing-extensions>=4.6.1 in /usr/local/lib/python3.10/dist-packages (from pydantic>=1.10.8->qdrant_client) (4.12.2)\n",
            "Requirement already satisfied: hyperframe<7,>=6.0 in /usr/local/lib/python3.10/dist-packages (from h2<5,>=3->httpx[http2]>=0.20.0->qdrant_client) (6.0.1)\n",
            "Requirement already satisfied: hpack<5,>=4.0 in /usr/local/lib/python3.10/dist-packages (from h2<5,>=3->httpx[http2]>=0.20.0->qdrant_client) (4.0.0)\n",
            "Requirement already satisfied: exceptiongroup in /usr/local/lib/python3.10/dist-packages (from anyio->httpx>=0.20.0->httpx[http2]>=0.20.0->qdrant_client) (1.2.2)\n",
            "Collecting ctransformers\n",
            "  Downloading ctransformers-0.2.27-py3-none-any.whl.metadata (17 kB)\n",
            "Requirement already satisfied: huggingface-hub in /usr/local/lib/python3.10/dist-packages (from ctransformers) (0.23.5)\n",
            "Requirement already satisfied: py-cpuinfo<10.0.0,>=9.0.0 in /usr/local/lib/python3.10/dist-packages (from ctransformers) (9.0.0)\n",
            "Requirement already satisfied: filelock in /usr/local/lib/python3.10/dist-packages (from huggingface-hub->ctransformers) (3.15.4)\n",
            "Requirement already satisfied: fsspec>=2023.5.0 in /usr/local/lib/python3.10/dist-packages (from huggingface-hub->ctransformers) (2023.6.0)\n",
            "Requirement already satisfied: packaging>=20.9 in /usr/local/lib/python3.10/dist-packages (from huggingface-hub->ctransformers) (24.1)\n",
            "Requirement already satisfied: pyyaml>=5.1 in /usr/local/lib/python3.10/dist-packages (from huggingface-hub->ctransformers) (6.0.1)\n",
            "Requirement already satisfied: requests in /usr/local/lib/python3.10/dist-packages (from huggingface-hub->ctransformers) (2.31.0)\n",
            "Requirement already satisfied: tqdm>=4.42.1 in /usr/local/lib/python3.10/dist-packages (from huggingface-hub->ctransformers) (4.66.4)\n",
            "Requirement already satisfied: typing-extensions>=3.7.4.3 in /usr/local/lib/python3.10/dist-packages (from huggingface-hub->ctransformers) (4.12.2)\n",
            "Requirement already satisfied: charset-normalizer<4,>=2 in /usr/local/lib/python3.10/dist-packages (from requests->huggingface-hub->ctransformers) (3.3.2)\n",
            "Requirement already satisfied: idna<4,>=2.5 in /usr/local/lib/python3.10/dist-packages (from requests->huggingface-hub->ctransformers) (3.7)\n",
            "Requirement already satisfied: urllib3<3,>=1.21.1 in /usr/local/lib/python3.10/dist-packages (from requests->huggingface-hub->ctransformers) (2.0.7)\n",
            "Requirement already satisfied: certifi>=2017.4.17 in /usr/local/lib/python3.10/dist-packages (from requests->huggingface-hub->ctransformers) (2024.7.4)\n",
            "Downloading ctransformers-0.2.27-py3-none-any.whl (9.9 MB)\n",
            "\u001b[2K   \u001b[90m━━━━━━━━━━━━━━━━━━━━━━━━━━━━━━━━━━━━━━━━\u001b[0m \u001b[32m9.9/9.9 MB\u001b[0m \u001b[31m103.3 MB/s\u001b[0m eta \u001b[36m0:00:00\u001b[0m\n",
            "\u001b[?25hInstalling collected packages: ctransformers\n",
            "Successfully installed ctransformers-0.2.27\n",
            "Collecting langchain-qdrant\n",
            "  Downloading langchain_qdrant-0.1.3-py3-none-any.whl.metadata (1.7 kB)\n",
            "Requirement already satisfied: langchain-core<0.3,>=0.1.52 in /usr/local/lib/python3.10/dist-packages (from langchain-qdrant) (0.2.23)\n",
            "Requirement already satisfied: pydantic<3.0.0,>=2.7.4 in /usr/local/lib/python3.10/dist-packages (from langchain-qdrant) (2.8.2)\n",
            "Requirement already satisfied: qdrant-client<2.0.0,>=1.10.1 in /usr/local/lib/python3.10/dist-packages (from langchain-qdrant) (1.10.1)\n",
            "Requirement already satisfied: PyYAML>=5.3 in /usr/local/lib/python3.10/dist-packages (from langchain-core<0.3,>=0.1.52->langchain-qdrant) (6.0.1)\n",
            "Requirement already satisfied: jsonpatch<2.0,>=1.33 in /usr/local/lib/python3.10/dist-packages (from langchain-core<0.3,>=0.1.52->langchain-qdrant) (1.33)\n",
            "Requirement already satisfied: langsmith<0.2.0,>=0.1.75 in /usr/local/lib/python3.10/dist-packages (from langchain-core<0.3,>=0.1.52->langchain-qdrant) (0.1.93)\n",
            "Requirement already satisfied: packaging<25,>=23.2 in /usr/local/lib/python3.10/dist-packages (from langchain-core<0.3,>=0.1.52->langchain-qdrant) (24.1)\n",
            "Requirement already satisfied: tenacity!=8.4.0,<9.0.0,>=8.1.0 in /usr/local/lib/python3.10/dist-packages (from langchain-core<0.3,>=0.1.52->langchain-qdrant) (8.5.0)\n",
            "Requirement already satisfied: annotated-types>=0.4.0 in /usr/local/lib/python3.10/dist-packages (from pydantic<3.0.0,>=2.7.4->langchain-qdrant) (0.7.0)\n",
            "Requirement already satisfied: pydantic-core==2.20.1 in /usr/local/lib/python3.10/dist-packages (from pydantic<3.0.0,>=2.7.4->langchain-qdrant) (2.20.1)\n",
            "Requirement already satisfied: typing-extensions>=4.6.1 in /usr/local/lib/python3.10/dist-packages (from pydantic<3.0.0,>=2.7.4->langchain-qdrant) (4.12.2)\n",
            "Requirement already satisfied: grpcio>=1.41.0 in /usr/local/lib/python3.10/dist-packages (from qdrant-client<2.0.0,>=1.10.1->langchain-qdrant) (1.65.1)\n",
            "Requirement already satisfied: grpcio-tools>=1.41.0 in /usr/local/lib/python3.10/dist-packages (from qdrant-client<2.0.0,>=1.10.1->langchain-qdrant) (1.65.1)\n",
            "Requirement already satisfied: httpx>=0.20.0 in /usr/local/lib/python3.10/dist-packages (from httpx[http2]>=0.20.0->qdrant-client<2.0.0,>=1.10.1->langchain-qdrant) (0.27.0)\n",
            "Requirement already satisfied: numpy>=1.21 in /usr/local/lib/python3.10/dist-packages (from qdrant-client<2.0.0,>=1.10.1->langchain-qdrant) (1.25.2)\n",
            "Requirement already satisfied: portalocker<3.0.0,>=2.7.0 in /usr/local/lib/python3.10/dist-packages (from qdrant-client<2.0.0,>=1.10.1->langchain-qdrant) (2.10.1)\n",
            "Requirement already satisfied: urllib3<3,>=1.26.14 in /usr/local/lib/python3.10/dist-packages (from qdrant-client<2.0.0,>=1.10.1->langchain-qdrant) (2.0.7)\n",
            "Requirement already satisfied: protobuf<6.0dev,>=5.26.1 in /usr/local/lib/python3.10/dist-packages (from grpcio-tools>=1.41.0->qdrant-client<2.0.0,>=1.10.1->langchain-qdrant) (5.27.2)\n",
            "Requirement already satisfied: setuptools in /usr/local/lib/python3.10/dist-packages (from grpcio-tools>=1.41.0->qdrant-client<2.0.0,>=1.10.1->langchain-qdrant) (71.0.4)\n",
            "Requirement already satisfied: anyio in /usr/local/lib/python3.10/dist-packages (from httpx>=0.20.0->httpx[http2]>=0.20.0->qdrant-client<2.0.0,>=1.10.1->langchain-qdrant) (3.7.1)\n",
            "Requirement already satisfied: certifi in /usr/local/lib/python3.10/dist-packages (from httpx>=0.20.0->httpx[http2]>=0.20.0->qdrant-client<2.0.0,>=1.10.1->langchain-qdrant) (2024.7.4)\n",
            "Requirement already satisfied: httpcore==1.* in /usr/local/lib/python3.10/dist-packages (from httpx>=0.20.0->httpx[http2]>=0.20.0->qdrant-client<2.0.0,>=1.10.1->langchain-qdrant) (1.0.5)\n",
            "Requirement already satisfied: idna in /usr/local/lib/python3.10/dist-packages (from httpx>=0.20.0->httpx[http2]>=0.20.0->qdrant-client<2.0.0,>=1.10.1->langchain-qdrant) (3.7)\n",
            "Requirement already satisfied: sniffio in /usr/local/lib/python3.10/dist-packages (from httpx>=0.20.0->httpx[http2]>=0.20.0->qdrant-client<2.0.0,>=1.10.1->langchain-qdrant) (1.3.1)\n",
            "Requirement already satisfied: h11<0.15,>=0.13 in /usr/local/lib/python3.10/dist-packages (from httpcore==1.*->httpx>=0.20.0->httpx[http2]>=0.20.0->qdrant-client<2.0.0,>=1.10.1->langchain-qdrant) (0.14.0)\n",
            "Requirement already satisfied: h2<5,>=3 in /usr/local/lib/python3.10/dist-packages (from httpx[http2]>=0.20.0->qdrant-client<2.0.0,>=1.10.1->langchain-qdrant) (4.1.0)\n",
            "Requirement already satisfied: jsonpointer>=1.9 in /usr/local/lib/python3.10/dist-packages (from jsonpatch<2.0,>=1.33->langchain-core<0.3,>=0.1.52->langchain-qdrant) (3.0.0)\n",
            "Requirement already satisfied: orjson<4.0.0,>=3.9.14 in /usr/local/lib/python3.10/dist-packages (from langsmith<0.2.0,>=0.1.75->langchain-core<0.3,>=0.1.52->langchain-qdrant) (3.10.6)\n",
            "Requirement already satisfied: requests<3,>=2 in /usr/local/lib/python3.10/dist-packages (from langsmith<0.2.0,>=0.1.75->langchain-core<0.3,>=0.1.52->langchain-qdrant) (2.31.0)\n",
            "Requirement already satisfied: hyperframe<7,>=6.0 in /usr/local/lib/python3.10/dist-packages (from h2<5,>=3->httpx[http2]>=0.20.0->qdrant-client<2.0.0,>=1.10.1->langchain-qdrant) (6.0.1)\n",
            "Requirement already satisfied: hpack<5,>=4.0 in /usr/local/lib/python3.10/dist-packages (from h2<5,>=3->httpx[http2]>=0.20.0->qdrant-client<2.0.0,>=1.10.1->langchain-qdrant) (4.0.0)\n",
            "Requirement already satisfied: charset-normalizer<4,>=2 in /usr/local/lib/python3.10/dist-packages (from requests<3,>=2->langsmith<0.2.0,>=0.1.75->langchain-core<0.3,>=0.1.52->langchain-qdrant) (3.3.2)\n",
            "Requirement already satisfied: exceptiongroup in /usr/local/lib/python3.10/dist-packages (from anyio->httpx>=0.20.0->httpx[http2]>=0.20.0->qdrant-client<2.0.0,>=1.10.1->langchain-qdrant) (1.2.2)\n",
            "Downloading langchain_qdrant-0.1.3-py3-none-any.whl (22 kB)\n",
            "Installing collected packages: langchain-qdrant\n",
            "Successfully installed langchain-qdrant-0.1.3\n"
          ]
        }
      ],
      "source": [
        "!pip install langchain pypdf pypdf2 qdrant-client sentence_transformers transformers tiktoken python-dotenv qdrant_client --quiet\n",
        "!pip install -U langchain-community --quiet\n",
        "!pip install qdrant_client\n",
        "!pip install ctransformers\n",
        "!pip install -U langchain-qdrant"
      ]
    },
    {
      "cell_type": "markdown",
      "metadata": {
        "id": "ujnygq4AJfib"
      },
      "source": [
        "### Import the required packages"
      ]
    },
    {
      "cell_type": "code",
      "execution_count": null,
      "metadata": {
        "id": "qEu7-RAagvey"
      },
      "outputs": [],
      "source": [
        "from langchain.text_splitter import RecursiveCharacterTextSplitter\n",
        "from langchain.document_loaders import DirectoryLoader\n",
        "from langchain.document_loaders import PyPDFLoader\n",
        "from langchain_community.vectorstores import Qdrant\n",
        "from langchain_community.embeddings import SentenceTransformerEmbeddings\n",
        "from langchain.text_splitter import TokenTextSplitter\n",
        "from qdrant_client import models, QdrantClient\n",
        "import os"
      ]
    },
    {
      "cell_type": "code",
      "execution_count": null,
      "metadata": {
        "id": "bNALWojIPzlV"
      },
      "outputs": [],
      "source": [
        "import warnings\n",
        "# Ignore all warnings\n",
        "warnings.filterwarnings('ignore')"
      ]
    },
    {
      "cell_type": "markdown",
      "metadata": {
        "id": "nW8BmtgJKpMb"
      },
      "source": [
        "### Data loading"
      ]
    },
    {
      "cell_type": "code",
      "execution_count": null,
      "metadata": {
        "colab": {
          "base_uri": "https://localhost:8080/"
        },
        "id": "mgHAnEAqe-Jb",
        "outputId": "cf39ed4c-7a4d-4fad-9215-de5365818290"
      },
      "outputs": [
        {
          "name": "stderr",
          "output_type": "stream",
          "text": [
            "\r  0%|          | 0/1 [00:00<?, ?it/s]WARNING:pypdf._reader:Ignoring wrong pointing object 6 0 (offset 0)\n",
            "WARNING:pypdf._reader:Ignoring wrong pointing object 8 0 (offset 0)\n",
            "WARNING:pypdf._reader:Ignoring wrong pointing object 10 0 (offset 0)\n",
            "WARNING:pypdf._reader:Ignoring wrong pointing object 21 0 (offset 0)\n",
            "WARNING:pypdf._reader:Ignoring wrong pointing object 23 0 (offset 0)\n",
            "WARNING:pypdf._reader:Ignoring wrong pointing object 25 0 (offset 0)\n",
            "WARNING:pypdf._reader:Ignoring wrong pointing object 43 0 (offset 0)\n",
            "WARNING:pypdf._reader:Ignoring wrong pointing object 45 0 (offset 0)\n",
            "WARNING:pypdf._reader:Ignoring wrong pointing object 56 0 (offset 0)\n",
            "WARNING:pypdf._reader:Ignoring wrong pointing object 58 0 (offset 0)\n",
            "WARNING:pypdf._reader:Ignoring wrong pointing object 117 0 (offset 0)\n",
            "WARNING:pypdf._reader:Ignoring wrong pointing object 119 0 (offset 0)\n",
            "WARNING:pypdf._reader:Ignoring wrong pointing object 121 0 (offset 0)\n",
            "WARNING:pypdf._reader:Ignoring wrong pointing object 127 0 (offset 0)\n",
            "WARNING:pypdf._reader:Ignoring wrong pointing object 129 0 (offset 0)\n",
            "WARNING:pypdf._reader:Ignoring wrong pointing object 181 0 (offset 0)\n",
            "WARNING:pypdf._reader:Ignoring wrong pointing object 183 0 (offset 0)\n",
            "WARNING:pypdf._reader:Ignoring wrong pointing object 188 0 (offset 0)\n",
            "WARNING:pypdf._reader:Ignoring wrong pointing object 190 0 (offset 0)\n",
            "WARNING:pypdf._reader:Ignoring wrong pointing object 192 0 (offset 0)\n",
            "WARNING:pypdf._reader:Ignoring wrong pointing object 210 0 (offset 0)\n",
            "WARNING:pypdf._reader:Ignoring wrong pointing object 212 0 (offset 0)\n",
            "WARNING:pypdf._reader:Ignoring wrong pointing object 217 0 (offset 0)\n",
            "WARNING:pypdf._reader:Ignoring wrong pointing object 219 0 (offset 0)\n",
            "WARNING:pypdf._reader:Ignoring wrong pointing object 277 0 (offset 0)\n",
            "WARNING:pypdf._reader:Ignoring wrong pointing object 279 0 (offset 0)\n",
            "WARNING:pypdf._reader:Ignoring wrong pointing object 284 0 (offset 0)\n",
            "WARNING:pypdf._reader:Ignoring wrong pointing object 286 0 (offset 0)\n",
            "WARNING:pypdf._reader:Ignoring wrong pointing object 291 0 (offset 0)\n",
            "WARNING:pypdf._reader:Ignoring wrong pointing object 300 0 (offset 0)\n",
            "WARNING:pypdf._reader:Ignoring wrong pointing object 302 0 (offset 0)\n",
            "WARNING:pypdf._reader:Ignoring wrong pointing object 307 0 (offset 0)\n",
            "WARNING:pypdf._reader:Ignoring wrong pointing object 309 0 (offset 0)\n",
            "WARNING:pypdf._reader:Ignoring wrong pointing object 345 0 (offset 0)\n",
            "WARNING:pypdf._reader:Ignoring wrong pointing object 347 0 (offset 0)\n",
            "WARNING:pypdf._reader:Ignoring wrong pointing object 352 0 (offset 0)\n",
            "WARNING:pypdf._reader:Ignoring wrong pointing object 354 0 (offset 0)\n",
            "WARNING:pypdf._reader:Ignoring wrong pointing object 391 0 (offset 0)\n",
            "WARNING:pypdf._reader:Ignoring wrong pointing object 393 0 (offset 0)\n",
            "WARNING:pypdf._reader:Ignoring wrong pointing object 398 0 (offset 0)\n",
            "WARNING:pypdf._reader:Ignoring wrong pointing object 400 0 (offset 0)\n",
            "WARNING:pypdf._reader:Ignoring wrong pointing object 731 0 (offset 0)\n",
            "WARNING:pypdf._reader:Ignoring wrong pointing object 733 0 (offset 0)\n",
            "WARNING:pypdf._reader:Ignoring wrong pointing object 738 0 (offset 0)\n",
            "WARNING:pypdf._reader:Ignoring wrong pointing object 740 0 (offset 0)\n",
            "WARNING:pypdf._reader:Ignoring wrong pointing object 748 0 (offset 0)\n",
            "WARNING:pypdf._reader:Ignoring wrong pointing object 753 0 (offset 0)\n",
            "WARNING:pypdf._reader:Ignoring wrong pointing object 755 0 (offset 0)\n",
            "WARNING:pypdf._reader:Ignoring wrong pointing object 940 0 (offset 0)\n",
            "WARNING:pypdf._reader:Ignoring wrong pointing object 942 0 (offset 0)\n",
            "WARNING:pypdf._reader:Ignoring wrong pointing object 947 0 (offset 0)\n",
            "WARNING:pypdf._reader:Ignoring wrong pointing object 949 0 (offset 0)\n",
            "WARNING:pypdf._reader:Ignoring wrong pointing object 954 0 (offset 0)\n",
            "WARNING:pypdf._reader:Ignoring wrong pointing object 956 0 (offset 0)\n",
            "WARNING:pypdf._reader:Ignoring wrong pointing object 961 0 (offset 0)\n",
            "WARNING:pypdf._reader:Ignoring wrong pointing object 966 0 (offset 0)\n",
            "WARNING:pypdf._reader:Ignoring wrong pointing object 968 0 (offset 0)\n",
            "WARNING:pypdf._reader:Ignoring wrong pointing object 1008 0 (offset 0)\n",
            "WARNING:pypdf._reader:Ignoring wrong pointing object 1010 0 (offset 0)\n",
            "WARNING:pypdf._reader:Ignoring wrong pointing object 1015 0 (offset 0)\n",
            "WARNING:pypdf._reader:Ignoring wrong pointing object 1017 0 (offset 0)\n",
            "WARNING:pypdf._reader:Ignoring wrong pointing object 1034 0 (offset 0)\n",
            "WARNING:pypdf._reader:Ignoring wrong pointing object 1036 0 (offset 0)\n",
            "WARNING:pypdf._reader:Ignoring wrong pointing object 1042 0 (offset 0)\n",
            "WARNING:pypdf._reader:Ignoring wrong pointing object 1044 0 (offset 0)\n",
            "WARNING:pypdf._reader:Ignoring wrong pointing object 1146 0 (offset 0)\n",
            "WARNING:pypdf._reader:Ignoring wrong pointing object 1148 0 (offset 0)\n",
            "WARNING:pypdf._reader:Ignoring wrong pointing object 1153 0 (offset 0)\n",
            "WARNING:pypdf._reader:Ignoring wrong pointing object 1155 0 (offset 0)\n",
            "WARNING:pypdf._reader:Ignoring wrong pointing object 1180 0 (offset 0)\n",
            "WARNING:pypdf._reader:Ignoring wrong pointing object 1182 0 (offset 0)\n",
            "WARNING:pypdf._reader:Ignoring wrong pointing object 1187 0 (offset 0)\n",
            "WARNING:pypdf._reader:Ignoring wrong pointing object 1189 0 (offset 0)\n",
            "WARNING:pypdf._reader:Ignoring wrong pointing object 1200 0 (offset 0)\n",
            "WARNING:pypdf._reader:Ignoring wrong pointing object 1202 0 (offset 0)\n",
            "WARNING:pypdf._reader:Ignoring wrong pointing object 1207 0 (offset 0)\n",
            "WARNING:pypdf._reader:Ignoring wrong pointing object 1209 0 (offset 0)\n",
            "WARNING:pypdf._reader:Ignoring wrong pointing object 1214 0 (offset 0)\n",
            "WARNING:pypdf._reader:Ignoring wrong pointing object 1216 0 (offset 0)\n",
            "WARNING:pypdf._reader:Ignoring wrong pointing object 1221 0 (offset 0)\n",
            "WARNING:pypdf._reader:Ignoring wrong pointing object 1230 0 (offset 0)\n",
            "WARNING:pypdf._reader:Ignoring wrong pointing object 1232 0 (offset 0)\n",
            "WARNING:pypdf._reader:Ignoring wrong pointing object 1234 0 (offset 0)\n",
            "WARNING:pypdf._reader:Ignoring wrong pointing object 1239 0 (offset 0)\n",
            "WARNING:pypdf._reader:Ignoring wrong pointing object 1241 0 (offset 0)\n",
            "WARNING:pypdf._reader:Ignoring wrong pointing object 1243 0 (offset 0)\n",
            "WARNING:pypdf._reader:Ignoring wrong pointing object 1282 0 (offset 0)\n",
            "WARNING:pypdf._reader:Ignoring wrong pointing object 1284 0 (offset 0)\n",
            "WARNING:pypdf._reader:Ignoring wrong pointing object 1289 0 (offset 0)\n",
            "WARNING:pypdf._reader:Ignoring wrong pointing object 1291 0 (offset 0)\n",
            "WARNING:pypdf._reader:Ignoring wrong pointing object 1356 0 (offset 0)\n",
            "WARNING:pypdf._reader:Ignoring wrong pointing object 1358 0 (offset 0)\n",
            "WARNING:pypdf._reader:Ignoring wrong pointing object 1363 0 (offset 0)\n",
            "WARNING:pypdf._reader:Ignoring wrong pointing object 1365 0 (offset 0)\n",
            "WARNING:pypdf._reader:Ignoring wrong pointing object 1417 0 (offset 0)\n",
            "WARNING:pypdf._reader:Ignoring wrong pointing object 1419 0 (offset 0)\n",
            "WARNING:pypdf._reader:Ignoring wrong pointing object 1424 0 (offset 0)\n",
            "WARNING:pypdf._reader:Ignoring wrong pointing object 1426 0 (offset 0)\n",
            "WARNING:pypdf._reader:Ignoring wrong pointing object 1472 0 (offset 0)\n",
            "WARNING:pypdf._reader:Ignoring wrong pointing object 1474 0 (offset 0)\n",
            "WARNING:pypdf._reader:Ignoring wrong pointing object 1479 0 (offset 0)\n",
            "WARNING:pypdf._reader:Ignoring wrong pointing object 1481 0 (offset 0)\n",
            "WARNING:pypdf._reader:Ignoring wrong pointing object 1539 0 (offset 0)\n",
            "WARNING:pypdf._reader:Ignoring wrong pointing object 1541 0 (offset 0)\n",
            "WARNING:pypdf._reader:Ignoring wrong pointing object 1546 0 (offset 0)\n",
            "WARNING:pypdf._reader:Ignoring wrong pointing object 1548 0 (offset 0)\n",
            "WARNING:pypdf._reader:Ignoring wrong pointing object 1554 0 (offset 0)\n",
            "WARNING:pypdf._reader:Ignoring wrong pointing object 1556 0 (offset 0)\n",
            "WARNING:pypdf._reader:Ignoring wrong pointing object 1633 0 (offset 0)\n",
            "WARNING:pypdf._reader:Ignoring wrong pointing object 1635 0 (offset 0)\n",
            "WARNING:pypdf._reader:Ignoring wrong pointing object 1640 0 (offset 0)\n",
            "WARNING:pypdf._reader:Ignoring wrong pointing object 1642 0 (offset 0)\n",
            "WARNING:pypdf._reader:Ignoring wrong pointing object 1656 0 (offset 0)\n",
            "WARNING:pypdf._reader:Ignoring wrong pointing object 1658 0 (offset 0)\n",
            "WARNING:pypdf._reader:Ignoring wrong pointing object 1663 0 (offset 0)\n",
            "WARNING:pypdf._reader:Ignoring wrong pointing object 1665 0 (offset 0)\n",
            "WARNING:pypdf._reader:Ignoring wrong pointing object 1680 0 (offset 0)\n",
            "WARNING:pypdf._reader:Ignoring wrong pointing object 1682 0 (offset 0)\n",
            "WARNING:pypdf._reader:Ignoring wrong pointing object 1687 0 (offset 0)\n",
            "WARNING:pypdf._reader:Ignoring wrong pointing object 1689 0 (offset 0)\n",
            "WARNING:pypdf._reader:Ignoring wrong pointing object 1741 0 (offset 0)\n",
            "WARNING:pypdf._reader:Ignoring wrong pointing object 1743 0 (offset 0)\n",
            "WARNING:pypdf._reader:Ignoring wrong pointing object 1748 0 (offset 0)\n",
            "WARNING:pypdf._reader:Ignoring wrong pointing object 1750 0 (offset 0)\n",
            "WARNING:pypdf._reader:Ignoring wrong pointing object 1755 0 (offset 0)\n",
            "WARNING:pypdf._reader:Ignoring wrong pointing object 1760 0 (offset 0)\n",
            "WARNING:pypdf._reader:Ignoring wrong pointing object 1762 0 (offset 0)\n",
            "WARNING:pypdf._reader:Ignoring wrong pointing object 1767 0 (offset 0)\n",
            "WARNING:pypdf._reader:Ignoring wrong pointing object 1769 0 (offset 0)\n",
            "WARNING:pypdf._reader:Ignoring wrong pointing object 1775 0 (offset 0)\n",
            "WARNING:pypdf._reader:Ignoring wrong pointing object 1777 0 (offset 0)\n",
            "WARNING:pypdf._reader:Ignoring wrong pointing object 1819 0 (offset 0)\n",
            "WARNING:pypdf._reader:Ignoring wrong pointing object 1821 0 (offset 0)\n",
            "WARNING:pypdf._reader:Ignoring wrong pointing object 1826 0 (offset 0)\n",
            "WARNING:pypdf._reader:Ignoring wrong pointing object 1828 0 (offset 0)\n",
            "WARNING:pypdf._reader:Ignoring wrong pointing object 1905 0 (offset 0)\n",
            "WARNING:pypdf._reader:Ignoring wrong pointing object 1917 0 (offset 0)\n",
            "WARNING:pypdf._reader:Ignoring wrong pointing object 1919 0 (offset 0)\n",
            "WARNING:pypdf._reader:Ignoring wrong pointing object 1924 0 (offset 0)\n",
            "WARNING:pypdf._reader:Ignoring wrong pointing object 1926 0 (offset 0)\n",
            "WARNING:pypdf._reader:Ignoring wrong pointing object 1940 0 (offset 0)\n",
            "WARNING:pypdf._reader:Ignoring wrong pointing object 1942 0 (offset 0)\n",
            "WARNING:pypdf._reader:Ignoring wrong pointing object 1994 0 (offset 0)\n",
            "WARNING:pypdf._reader:Ignoring wrong pointing object 1996 0 (offset 0)\n",
            "WARNING:pypdf._reader:Ignoring wrong pointing object 2001 0 (offset 0)\n",
            "WARNING:pypdf._reader:Ignoring wrong pointing object 2003 0 (offset 0)\n",
            "WARNING:pypdf._reader:Ignoring wrong pointing object 2039 0 (offset 0)\n",
            "WARNING:pypdf._reader:Ignoring wrong pointing object 2042 0 (offset 0)\n",
            "WARNING:pypdf._reader:Ignoring wrong pointing object 2044 0 (offset 0)\n",
            "100%|██████████| 1/1 [00:43<00:00, 43.17s/it]\n"
          ]
        }
      ],
      "source": [
        "# Load Kenya National Fomularly Data\n",
        "presc_data = \"/content/drive/MyDrive/ML projects/pharmChat/Data\"\n",
        "\n",
        "loader = DirectoryLoader(presc_data, glob=\"Kenya_National_Medicines_Formulary_2023_1st_Edition.pdf\", show_progress=True, loader_cls=PyPDFLoader)\n",
        "\n",
        "documents = loader.load()"
      ]
    },
    {
      "cell_type": "markdown",
      "metadata": {
        "id": "sbCx4Zv4KtC8"
      },
      "source": [
        "### Data Preprocessing"
      ]
    },
    {
      "cell_type": "code",
      "execution_count": null,
      "metadata": {
        "id": "TcIFDCGAlSGc"
      },
      "outputs": [],
      "source": [
        "# Load token text splitter\n",
        "text_splitter = RecursiveCharacterTextSplitter(\n",
        "    chunk_size = 1000,\n",
        "    chunk_overlap = 100\n",
        ")\n",
        "\n",
        "#tokenize the data\n",
        "tokenized_docs = text_splitter.split_documents(documents)"
      ]
    },
    {
      "cell_type": "markdown",
      "metadata": {
        "id": "c-zfOA35LCNC"
      },
      "source": [
        "### Qdrant Vector Database Confguration"
      ]
    },
    {
      "cell_type": "code",
      "execution_count": null,
      "metadata": {
        "id": "JxSXG9PMqvNS"
      },
      "outputs": [],
      "source": [
        "# Qdrant cloud url\n",
        "qdrant_cloud = 'https://56869e5c-b05f-40a7-940e-101b0310f818.us-east4-0.gcp.cloud.qdrant.io:6333'\n",
        "qdrant_api_key = os.getenv('QDRANT_API_KEY')"
      ]
    },
    {
      "cell_type": "code",
      "execution_count": null,
      "metadata": {
        "id": "nyujwEvXmIuJ"
      },
      "outputs": [],
      "source": [
        "# Create an in-memory Qdrant instance\n",
        "client = QdrantClient(\":memory:\")"
      ]
    },
    {
      "cell_type": "code",
      "execution_count": null,
      "metadata": {
        "colab": {
          "base_uri": "https://localhost:8080/"
        },
        "id": "TIORoHt5Jw4N",
        "outputId": "19bd12b3-4349-4252-ce89-879160b7ccf7"
      },
      "outputs": [
        {
          "name": "stderr",
          "output_type": "stream",
          "text": [
            "/usr/local/lib/python3.10/dist-packages/langchain_core/_api/deprecation.py:139: LangChainDeprecationWarning: The class `HuggingFaceEmbeddings` was deprecated in LangChain 0.2.2 and will be removed in 0.3.0. An updated version of the class exists in the langchain-huggingface package and should be used instead. To use it run `pip install -U langchain-huggingface` and import as `from langchain_huggingface import HuggingFaceEmbeddings`.\n",
            "  warn_deprecated(\n",
            "/usr/local/lib/python3.10/dist-packages/sentence_transformers/cross_encoder/CrossEncoder.py:11: TqdmExperimentalWarning: Using `tqdm.autonotebook.tqdm` in notebook mode. Use `tqdm.tqdm` instead to force console mode (e.g. in jupyter console)\n",
            "  from tqdm.autonotebook import tqdm, trange\n",
            "/usr/local/lib/python3.10/dist-packages/huggingface_hub/file_download.py:1132: FutureWarning: `resume_download` is deprecated and will be removed in version 1.0.0. Downloads always resume when possible. If you want to force a new download, use `force_download=True`.\n",
            "  warnings.warn(\n"
          ]
        }
      ],
      "source": [
        "# Load pubmedbert embeddings\n",
        "embeddings = SentenceTransformerEmbeddings(model_name = \"NeuML/pubmedbert-base-embeddings\")"
      ]
    },
    {
      "cell_type": "code",
      "execution_count": null,
      "metadata": {
        "id": "c-i5DVMFrTlA"
      },
      "outputs": [],
      "source": [
        "# # # Embed tokens and store them in the vector db\n",
        "# qdrant = Qdrant.from_documents(\n",
        "#     tokenized_docs,\n",
        "#     embeddings,\n",
        "#     url=qdrant_cloud,\n",
        "#     api_key=qdrant_api_key,\n",
        "#     prefer_grpc = False,\n",
        "#     collection_name = \"medical_fomularly\"\n",
        "# )"
      ]
    },
    {
      "cell_type": "code",
      "execution_count": null,
      "metadata": {
        "id": "L5PLmp1345Wu"
      },
      "outputs": [],
      "source": [
        "# # # Embed tokens and store them in the vector db\n",
        "qdrant = Qdrant.from_documents(\n",
        "    tokenized_docs,\n",
        "    embeddings,\n",
        "    url=qdrant_cloud,\n",
        "    api_key=\"input_key\",\n",
        "    prefer_grpc = False,\n",
        "    collection_name = \"medical_fomularly\"\n",
        ")"
      ]
    },
    {
      "cell_type": "code",
      "execution_count": null,
      "metadata": {
        "id": "7jtuUoQz-gQ-"
      },
      "outputs": [],
      "source": [
        "from langchain_qdrant import Qdrant"
      ]
    },
    {
      "cell_type": "code",
      "execution_count": null,
      "metadata": {
        "id": "SLWXnIQ7uhU1"
      },
      "outputs": [],
      "source": [
        "client = QdrantClient(\n",
        "    url=qdrant_cloud,\n",
        "    api_key=\"input_key\",\n",
        "    prefer_grpc=False\n",
        ")\n",
        "\n",
        "db = Qdrant(client=client, embeddings=embeddings, collection_name=\"medical_fomularly\")\n",
        "# db = QdrantClient(api_key=qdrant_api_key)"
      ]
    },
    {
      "cell_type": "code",
      "execution_count": null,
      "metadata": {
        "id": "z_zgZKTdsoz2"
      },
      "outputs": [],
      "source": [
        "# Test query\n",
        "query = \"what is Halothane?\"\n",
        "\n",
        "# Seerch in info in the database vectors\n",
        "docs = db.similarity_search_with_score(query=query, k=3)\n",
        "\n",
        "# show retrieved tokens\n",
        "for i in docs:\n",
        "    doc, score = i\n",
        "    print({\"score\": score, \"Content\":doc.page_content, \"metadata\":doc.metadata})"
      ]
    },
    {
      "cell_type": "markdown",
      "metadata": {
        "id": "h6d58Pd0yAu1"
      },
      "source": [
        "## Retrieval Augmented Generation"
      ]
    },
    {
      "cell_type": "code",
      "execution_count": null,
      "metadata": {
        "id": "fYL1spzI01U3"
      },
      "outputs": [],
      "source": [
        "# Load required Prerequisites\n",
        "from langchain import PromptTemplate\n",
        "from dotenv import load_dotenv\n",
        "from langchain.llms import CTransformers\n",
        "from langchain.chains import RetrievalQA"
      ]
    },
    {
      "cell_type": "code",
      "execution_count": null,
      "metadata": {
        "id": "Dp9ulIFKxuec"
      },
      "outputs": [],
      "source": [
        "# Load Pretrained Local Model\n",
        "local_llm = \"/content/drive/MyDrive/ML projects/pharmChat/Model/meditron-7b.Q5_K_M.gguf\""
      ]
    },
    {
      "cell_type": "code",
      "execution_count": null,
      "metadata": {
        "colab": {
          "base_uri": "https://localhost:8080/"
        },
        "id": "ymlgUAPdBsaW",
        "outputId": "032d3eaf-fcda-410f-db9a-0d77be79ae37"
      },
      "outputs": [
        {
          "name": "stdout",
          "output_type": "stream",
          "text": [
            "{'max_new_tokens': 1024, 'context_length': 2048, 'repetition_penalty': 1.1, 'temperature': 0.1, 'top_k': 50, 'top_p': 0.9, 'stream': True, 'threads': 2}\n"
          ]
        }
      ],
      "source": [
        "# Configure CUDA\n",
        "if torch.cuda.is_available():\n",
        "    threads = int(os.cpu_count() / 4)\n",
        "else:\n",
        "    threads = int(os.cpu_count() / 2)\n",
        "\n",
        "# Configure Output tokens\n",
        "config = {\n",
        "    'max_new_tokens': 1024,\n",
        "    'context_length': 2048,\n",
        "    'repetition_penalty': 1.1,\n",
        "    'temperature': 0.1,\n",
        "    'top_k': 50,\n",
        "    'top_p': 0.9,\n",
        "    'stream': True,\n",
        "    'threads': threads\n",
        "}\n",
        "\n",
        "print(config)\n"
      ]
    },
    {
      "cell_type": "code",
      "execution_count": null,
      "metadata": {
        "id": "m5wIbvw_zvP9"
      },
      "outputs": [],
      "source": [
        "# Load HuggingFace API\n",
        "token = os.getenv(\"HUGGINGFACE_API_TOKEN\")"
      ]
    },
    {
      "cell_type": "code",
      "execution_count": null,
      "metadata": {
        "id": "4qgo67w4zmau"
      },
      "outputs": [],
      "source": [
        "# LLM Transformer Configuration\n",
        "llm = CTransformers(\n",
        "    model=local_llm,\n",
        "    model_type=\"llama\",\n",
        "    lib=\"avx2\",\n",
        "    api_key=token,\n",
        "    **config\n",
        ")"
      ]
    },
    {
      "cell_type": "code",
      "execution_count": null,
      "metadata": {
        "colab": {
          "base_uri": "https://localhost:8080/"
        },
        "id": "ugb9zPoxyIku",
        "outputId": "41a46a90-e76d-417f-93d3-93cca3a4f587"
      },
      "outputs": [
        {
          "name": "stdout",
          "output_type": "stream",
          "text": [
            "Using 2 threads for processing.\n"
          ]
        }
      ],
      "source": [
        "# Print GPU threads\n",
        "# Using 2 to reduce Memory overload\n",
        "print(f\"Using {config['threads']} threads for processing.\")"
      ]
    },
    {
      "cell_type": "code",
      "execution_count": null,
      "metadata": {
        "id": "aCJtrxNPy2iB"
      },
      "outputs": [],
      "source": [
        "# Configure Response Output Template\n",
        "\n",
        "prompt_template = \"\"\"Use the following pieces of information to answer the user's question.\n",
        "If you don't know the answer, just say that you don't know, don't try to make up an answer.\n",
        "\n",
        "Context: {context}\n",
        "Question: {question}\n",
        "\n",
        "Only return the helpful answer below and nothing else.\n",
        "Helpful answer:\n",
        "\"\"\""
      ]
    },
    {
      "cell_type": "code",
      "execution_count": null,
      "metadata": {
        "id": "mT8HBVfazH2F"
      },
      "outputs": [],
      "source": [
        "# Initialize PromptTemplate and pass the template\n",
        "prompt = PromptTemplate(template=prompt_template, input_variables=['context', 'question'])"
      ]
    },
    {
      "cell_type": "code",
      "execution_count": null,
      "metadata": {
        "id": "EPldXLFkzBnZ"
      },
      "outputs": [],
      "source": [
        "# Configure RAG\n",
        "retriever = db.as_retriever(search_kwargs={\"k\":1})\n",
        "chain_type_kwargs = {\"prompt\": prompt}\n",
        "qa = RetrievalQA.from_chain_type(llm=llm, chain_type=\"stuff\", retriever=retriever, return_source_documents=True, chain_type_kwargs=chain_type_kwargs, verbose=True)\n"
      ]
    },
    {
      "cell_type": "code",
      "execution_count": null,
      "metadata": {
        "id": "DPFGQ1p0zBi-"
      },
      "outputs": [],
      "source": [
        "# Sample question\n",
        "query = \"What is Halothane\""
      ]
    },
    {
      "cell_type": "code",
      "execution_count": null,
      "metadata": {
        "colab": {
          "base_uri": "https://localhost:8080/"
        },
        "id": "IOApMYC81PoA",
        "outputId": "7b860372-1809-4bd8-e430-24fab800787f"
      },
      "outputs": [
        {
          "name": "stderr",
          "output_type": "stream",
          "text": [
            "/usr/local/lib/python3.10/dist-packages/langchain_core/_api/deprecation.py:139: LangChainDeprecationWarning: The method `Chain.__call__` was deprecated in langchain 0.1.0 and will be removed in 0.3.0. Use invoke instead.\n",
            "  warn_deprecated(\n"
          ]
        },
        {
          "name": "stdout",
          "output_type": "stream",
          "text": [
            "\n",
            "\n",
            "\u001b[1m> Entering new RetrievalQA chain...\u001b[0m\n"
          ]
        },
        {
          "name": "stderr",
          "output_type": "stream",
          "text": [
            "WARNING:ctransformers:Number of tokens (513) exceeded maximum context length (512).\n",
            "WARNING:ctransformers:Number of tokens (514) exceeded maximum context length (512).\n",
            "WARNING:ctransformers:Number of tokens (515) exceeded maximum context length (512).\n",
            "WARNING:ctransformers:Number of tokens (516) exceeded maximum context length (512).\n",
            "WARNING:ctransformers:Number of tokens (517) exceeded maximum context length (512).\n",
            "WARNING:ctransformers:Number of tokens (518) exceeded maximum context length (512).\n",
            "WARNING:ctransformers:Number of tokens (519) exceeded maximum context length (512).\n",
            "WARNING:ctransformers:Number of tokens (520) exceeded maximum context length (512).\n",
            "WARNING:ctransformers:Number of tokens (521) exceeded maximum context length (512).\n",
            "WARNING:ctransformers:Number of tokens (522) exceeded maximum context length (512).\n",
            "WARNING:ctransformers:Number of tokens (523) exceeded maximum context length (512).\n",
            "WARNING:ctransformers:Number of tokens (524) exceeded maximum context length (512).\n",
            "WARNING:ctransformers:Number of tokens (525) exceeded maximum context length (512).\n",
            "WARNING:ctransformers:Number of tokens (526) exceeded maximum context length (512).\n",
            "WARNING:ctransformers:Number of tokens (527) exceeded maximum context length (512).\n",
            "WARNING:ctransformers:Number of tokens (528) exceeded maximum context length (512).\n",
            "WARNING:ctransformers:Number of tokens (529) exceeded maximum context length (512).\n",
            "WARNING:ctransformers:Number of tokens (530) exceeded maximum context length (512).\n",
            "WARNING:ctransformers:Number of tokens (531) exceeded maximum context length (512).\n",
            "WARNING:ctransformers:Number of tokens (532) exceeded maximum context length (512).\n",
            "WARNING:ctransformers:Number of tokens (533) exceeded maximum context length (512).\n",
            "WARNING:ctransformers:Number of tokens (534) exceeded maximum context length (512).\n",
            "WARNING:ctransformers:Number of tokens (535) exceeded maximum context length (512).\n",
            "WARNING:ctransformers:Number of tokens (536) exceeded maximum context length (512).\n",
            "WARNING:ctransformers:Number of tokens (537) exceeded maximum context length (512).\n",
            "WARNING:ctransformers:Number of tokens (538) exceeded maximum context length (512).\n",
            "WARNING:ctransformers:Number of tokens (539) exceeded maximum context length (512).\n",
            "WARNING:ctransformers:Number of tokens (540) exceeded maximum context length (512).\n",
            "WARNING:ctransformers:Number of tokens (541) exceeded maximum context length (512).\n",
            "WARNING:ctransformers:Number of tokens (542) exceeded maximum context length (512).\n",
            "WARNING:ctransformers:Number of tokens (543) exceeded maximum context length (512).\n",
            "WARNING:ctransformers:Number of tokens (544) exceeded maximum context length (512).\n",
            "WARNING:ctransformers:Number of tokens (545) exceeded maximum context length (512).\n",
            "WARNING:ctransformers:Number of tokens (546) exceeded maximum context length (512).\n",
            "WARNING:ctransformers:Number of tokens (547) exceeded maximum context length (512).\n",
            "WARNING:ctransformers:Number of tokens (548) exceeded maximum context length (512).\n",
            "WARNING:ctransformers:Number of tokens (549) exceeded maximum context length (512).\n",
            "WARNING:ctransformers:Number of tokens (550) exceeded maximum context length (512).\n",
            "WARNING:ctransformers:Number of tokens (551) exceeded maximum context length (512).\n",
            "WARNING:ctransformers:Number of tokens (552) exceeded maximum context length (512).\n",
            "WARNING:ctransformers:Number of tokens (553) exceeded maximum context length (512).\n",
            "WARNING:ctransformers:Number of tokens (554) exceeded maximum context length (512).\n",
            "WARNING:ctransformers:Number of tokens (555) exceeded maximum context length (512).\n",
            "WARNING:ctransformers:Number of tokens (556) exceeded maximum context length (512).\n",
            "WARNING:ctransformers:Number of tokens (557) exceeded maximum context length (512).\n",
            "WARNING:ctransformers:Number of tokens (558) exceeded maximum context length (512).\n",
            "WARNING:ctransformers:Number of tokens (559) exceeded maximum context length (512).\n",
            "WARNING:ctransformers:Number of tokens (560) exceeded maximum context length (512).\n",
            "WARNING:ctransformers:Number of tokens (561) exceeded maximum context length (512).\n",
            "WARNING:ctransformers:Number of tokens (562) exceeded maximum context length (512).\n",
            "WARNING:ctransformers:Number of tokens (563) exceeded maximum context length (512).\n",
            "WARNING:ctransformers:Number of tokens (564) exceeded maximum context length (512).\n",
            "WARNING:ctransformers:Number of tokens (565) exceeded maximum context length (512).\n",
            "WARNING:ctransformers:Number of tokens (566) exceeded maximum context length (512).\n",
            "WARNING:ctransformers:Number of tokens (567) exceeded maximum context length (512).\n",
            "WARNING:ctransformers:Number of tokens (568) exceeded maximum context length (512).\n",
            "WARNING:ctransformers:Number of tokens (569) exceeded maximum context length (512).\n",
            "WARNING:ctransformers:Number of tokens (570) exceeded maximum context length (512).\n",
            "WARNING:ctransformers:Number of tokens (571) exceeded maximum context length (512).\n",
            "WARNING:ctransformers:Number of tokens (572) exceeded maximum context length (512).\n",
            "WARNING:ctransformers:Number of tokens (573) exceeded maximum context length (512).\n",
            "WARNING:ctransformers:Number of tokens (574) exceeded maximum context length (512).\n",
            "WARNING:ctransformers:Number of tokens (575) exceeded maximum context length (512).\n",
            "WARNING:ctransformers:Number of tokens (576) exceeded maximum context length (512).\n",
            "WARNING:ctransformers:Number of tokens (577) exceeded maximum context length (512).\n",
            "WARNING:ctransformers:Number of tokens (578) exceeded maximum context length (512).\n",
            "WARNING:ctransformers:Number of tokens (579) exceeded maximum context length (512).\n",
            "WARNING:ctransformers:Number of tokens (580) exceeded maximum context length (512).\n",
            "WARNING:ctransformers:Number of tokens (581) exceeded maximum context length (512).\n",
            "WARNING:ctransformers:Number of tokens (582) exceeded maximum context length (512).\n",
            "WARNING:ctransformers:Number of tokens (583) exceeded maximum context length (512).\n",
            "WARNING:ctransformers:Number of tokens (584) exceeded maximum context length (512).\n",
            "WARNING:ctransformers:Number of tokens (585) exceeded maximum context length (512).\n",
            "WARNING:ctransformers:Number of tokens (586) exceeded maximum context length (512).\n",
            "WARNING:ctransformers:Number of tokens (587) exceeded maximum context length (512).\n",
            "WARNING:ctransformers:Number of tokens (588) exceeded maximum context length (512).\n",
            "WARNING:ctransformers:Number of tokens (589) exceeded maximum context length (512).\n",
            "WARNING:ctransformers:Number of tokens (590) exceeded maximum context length (512).\n",
            "WARNING:ctransformers:Number of tokens (591) exceeded maximum context length (512).\n",
            "WARNING:ctransformers:Number of tokens (592) exceeded maximum context length (512).\n",
            "WARNING:ctransformers:Number of tokens (593) exceeded maximum context length (512).\n",
            "WARNING:ctransformers:Number of tokens (594) exceeded maximum context length (512).\n",
            "WARNING:ctransformers:Number of tokens (595) exceeded maximum context length (512).\n",
            "WARNING:ctransformers:Number of tokens (596) exceeded maximum context length (512).\n",
            "WARNING:ctransformers:Number of tokens (597) exceeded maximum context length (512).\n",
            "WARNING:ctransformers:Number of tokens (598) exceeded maximum context length (512).\n",
            "WARNING:ctransformers:Number of tokens (599) exceeded maximum context length (512).\n",
            "WARNING:ctransformers:Number of tokens (600) exceeded maximum context length (512).\n",
            "WARNING:ctransformers:Number of tokens (601) exceeded maximum context length (512).\n",
            "WARNING:ctransformers:Number of tokens (602) exceeded maximum context length (512).\n",
            "WARNING:ctransformers:Number of tokens (603) exceeded maximum context length (512).\n",
            "WARNING:ctransformers:Number of tokens (604) exceeded maximum context length (512).\n",
            "WARNING:ctransformers:Number of tokens (605) exceeded maximum context length (512).\n",
            "WARNING:ctransformers:Number of tokens (606) exceeded maximum context length (512).\n",
            "WARNING:ctransformers:Number of tokens (607) exceeded maximum context length (512).\n",
            "WARNING:ctransformers:Number of tokens (608) exceeded maximum context length (512).\n",
            "WARNING:ctransformers:Number of tokens (609) exceeded maximum context length (512).\n",
            "WARNING:ctransformers:Number of tokens (610) exceeded maximum context length (512).\n",
            "WARNING:ctransformers:Number of tokens (611) exceeded maximum context length (512).\n",
            "WARNING:ctransformers:Number of tokens (612) exceeded maximum context length (512).\n",
            "WARNING:ctransformers:Number of tokens (613) exceeded maximum context length (512).\n",
            "WARNING:ctransformers:Number of tokens (614) exceeded maximum context length (512).\n",
            "WARNING:ctransformers:Number of tokens (615) exceeded maximum context length (512).\n",
            "WARNING:ctransformers:Number of tokens (616) exceeded maximum context length (512).\n",
            "WARNING:ctransformers:Number of tokens (617) exceeded maximum context length (512).\n",
            "WARNING:ctransformers:Number of tokens (618) exceeded maximum context length (512).\n",
            "WARNING:ctransformers:Number of tokens (619) exceeded maximum context length (512).\n",
            "WARNING:ctransformers:Number of tokens (620) exceeded maximum context length (512).\n",
            "WARNING:ctransformers:Number of tokens (621) exceeded maximum context length (512).\n",
            "WARNING:ctransformers:Number of tokens (622) exceeded maximum context length (512).\n",
            "WARNING:ctransformers:Number of tokens (623) exceeded maximum context length (512).\n",
            "WARNING:ctransformers:Number of tokens (624) exceeded maximum context length (512).\n",
            "WARNING:ctransformers:Number of tokens (625) exceeded maximum context length (512).\n",
            "WARNING:ctransformers:Number of tokens (626) exceeded maximum context length (512).\n",
            "WARNING:ctransformers:Number of tokens (627) exceeded maximum context length (512).\n",
            "WARNING:ctransformers:Number of tokens (628) exceeded maximum context length (512).\n",
            "WARNING:ctransformers:Number of tokens (629) exceeded maximum context length (512).\n",
            "WARNING:ctransformers:Number of tokens (630) exceeded maximum context length (512).\n",
            "WARNING:ctransformers:Number of tokens (631) exceeded maximum context length (512).\n",
            "WARNING:ctransformers:Number of tokens (632) exceeded maximum context length (512).\n",
            "WARNING:ctransformers:Number of tokens (633) exceeded maximum context length (512).\n",
            "WARNING:ctransformers:Number of tokens (634) exceeded maximum context length (512).\n",
            "WARNING:ctransformers:Number of tokens (635) exceeded maximum context length (512).\n",
            "WARNING:ctransformers:Number of tokens (636) exceeded maximum context length (512).\n",
            "WARNING:ctransformers:Number of tokens (637) exceeded maximum context length (512).\n",
            "WARNING:ctransformers:Number of tokens (638) exceeded maximum context length (512).\n",
            "WARNING:ctransformers:Number of tokens (639) exceeded maximum context length (512).\n",
            "WARNING:ctransformers:Number of tokens (640) exceeded maximum context length (512).\n",
            "WARNING:ctransformers:Number of tokens (641) exceeded maximum context length (512).\n",
            "WARNING:ctransformers:Number of tokens (642) exceeded maximum context length (512).\n",
            "WARNING:ctransformers:Number of tokens (643) exceeded maximum context length (512).\n",
            "WARNING:ctransformers:Number of tokens (644) exceeded maximum context length (512).\n",
            "WARNING:ctransformers:Number of tokens (645) exceeded maximum context length (512).\n",
            "WARNING:ctransformers:Number of tokens (646) exceeded maximum context length (512).\n",
            "WARNING:ctransformers:Number of tokens (647) exceeded maximum context length (512).\n",
            "WARNING:ctransformers:Number of tokens (648) exceeded maximum context length (512).\n",
            "WARNING:ctransformers:Number of tokens (649) exceeded maximum context length (512).\n",
            "WARNING:ctransformers:Number of tokens (650) exceeded maximum context length (512).\n",
            "WARNING:ctransformers:Number of tokens (651) exceeded maximum context length (512).\n",
            "WARNING:ctransformers:Number of tokens (652) exceeded maximum context length (512).\n",
            "WARNING:ctransformers:Number of tokens (653) exceeded maximum context length (512).\n",
            "WARNING:ctransformers:Number of tokens (654) exceeded maximum context length (512).\n",
            "WARNING:ctransformers:Number of tokens (655) exceeded maximum context length (512).\n",
            "WARNING:ctransformers:Number of tokens (656) exceeded maximum context length (512).\n",
            "WARNING:ctransformers:Number of tokens (657) exceeded maximum context length (512).\n",
            "WARNING:ctransformers:Number of tokens (658) exceeded maximum context length (512).\n",
            "WARNING:ctransformers:Number of tokens (659) exceeded maximum context length (512).\n",
            "WARNING:ctransformers:Number of tokens (660) exceeded maximum context length (512).\n",
            "WARNING:ctransformers:Number of tokens (661) exceeded maximum context length (512).\n",
            "WARNING:ctransformers:Number of tokens (662) exceeded maximum context length (512).\n",
            "WARNING:ctransformers:Number of tokens (663) exceeded maximum context length (512).\n",
            "WARNING:ctransformers:Number of tokens (664) exceeded maximum context length (512).\n",
            "WARNING:ctransformers:Number of tokens (665) exceeded maximum context length (512).\n",
            "WARNING:ctransformers:Number of tokens (666) exceeded maximum context length (512).\n",
            "WARNING:ctransformers:Number of tokens (667) exceeded maximum context length (512).\n",
            "WARNING:ctransformers:Number of tokens (668) exceeded maximum context length (512).\n",
            "WARNING:ctransformers:Number of tokens (669) exceeded maximum context length (512).\n",
            "WARNING:ctransformers:Number of tokens (670) exceeded maximum context length (512).\n",
            "WARNING:ctransformers:Number of tokens (671) exceeded maximum context length (512).\n",
            "WARNING:ctransformers:Number of tokens (672) exceeded maximum context length (512).\n",
            "WARNING:ctransformers:Number of tokens (673) exceeded maximum context length (512).\n",
            "WARNING:ctransformers:Number of tokens (674) exceeded maximum context length (512).\n",
            "WARNING:ctransformers:Number of tokens (675) exceeded maximum context length (512).\n",
            "WARNING:ctransformers:Number of tokens (676) exceeded maximum context length (512).\n",
            "WARNING:ctransformers:Number of tokens (677) exceeded maximum context length (512).\n",
            "WARNING:ctransformers:Number of tokens (678) exceeded maximum context length (512).\n",
            "WARNING:ctransformers:Number of tokens (679) exceeded maximum context length (512).\n",
            "WARNING:ctransformers:Number of tokens (680) exceeded maximum context length (512).\n",
            "WARNING:ctransformers:Number of tokens (681) exceeded maximum context length (512).\n",
            "WARNING:ctransformers:Number of tokens (682) exceeded maximum context length (512).\n",
            "WARNING:ctransformers:Number of tokens (683) exceeded maximum context length (512).\n",
            "WARNING:ctransformers:Number of tokens (684) exceeded maximum context length (512).\n",
            "WARNING:ctransformers:Number of tokens (685) exceeded maximum context length (512).\n",
            "WARNING:ctransformers:Number of tokens (686) exceeded maximum context length (512).\n",
            "WARNING:ctransformers:Number of tokens (687) exceeded maximum context length (512).\n",
            "WARNING:ctransformers:Number of tokens (688) exceeded maximum context length (512).\n",
            "WARNING:ctransformers:Number of tokens (689) exceeded maximum context length (512).\n",
            "WARNING:ctransformers:Number of tokens (690) exceeded maximum context length (512).\n",
            "WARNING:ctransformers:Number of tokens (691) exceeded maximum context length (512).\n",
            "WARNING:ctransformers:Number of tokens (692) exceeded maximum context length (512).\n",
            "WARNING:ctransformers:Number of tokens (693) exceeded maximum context length (512).\n",
            "WARNING:ctransformers:Number of tokens (694) exceeded maximum context length (512).\n",
            "WARNING:ctransformers:Number of tokens (695) exceeded maximum context length (512).\n",
            "WARNING:ctransformers:Number of tokens (696) exceeded maximum context length (512).\n",
            "WARNING:ctransformers:Number of tokens (697) exceeded maximum context length (512).\n"
          ]
        },
        {
          "name": "stdout",
          "output_type": "stream",
          "text": [
            "\n",
            "\u001b[1m> Finished chain.\u001b[0m\n",
            "{'query': 'What is Halothane', 'result': 'Halothane (Fluothane) is a  volatile\\nanaesthetic agent that has been used since 1956, \\nand is still in clinical use as of today. Halothane \\nis an alkyl halide with the formula C2F4BrCH3. It \\nis a colourlessensuresulifies from mimparts with the only requires toxic and other volat room temperature (halothers as a colourless frequently referred to produce the simplest molecular volume is structuronset the  has a molecannotates from bubiquenforces, like En route into air) but it is used inhappears its chemical structure consists of halogeniclends with other halogenousingests with one carbonate.\\nis colourless potenters as ana colourless frequently induces a liquid form a powerful solubiquidupharmescapitulizes like  belongs to mimproved and dipsychlooses fluorallylays to the molecularlysometimes is structuranestabranges its formula is a volatoms inhibitself produces a very easily evaporates into an agent with ', 'source_documents': [Document(metadata={'page': 19, 'source': '/content/drive/MyDrive/ML projects/pharmChat/Data/Kenya_National_Medicines_Formulary_2023_1st_Edition.pdf', '_id': '016ba2b0-f595-4787-b3f1-c72adeffc232', '_collection_name': 'medical_fomularly'}, page_content='unexplained pyrexia or jaundice following previous \\nexposure to halothane.\\nAdverse\\teffects:\\tBradycardia, respiratory depression, \\narrhythmias, hepatitis (may be fatal)\\nInteractions with other medicines (*indicates serious): \\nAmitriptyline, *chlorpromazine, diazepam, enalapril, \\nepinephrine (adrenaline), *fluphenazine, furosemide, \\n*haloperidol, isoniazid, *levodopa, spironolactone, \\nsuxamethonium, vancomycin, vecuronium, *verapamilNotes\\n » Does not augment salivary or bronchial \\nsecretions\\n » Cardiac sensitization to the effects of \\ncatecholamines\\nIsoflurane\\t\\nATC code:  N01AB06\\nInhalation, 100% inhalation vapour liquid, 250 mL, LOU 4\\nIndications and dose\\nInduction of anaesthesia (in oxygen or nitrous oxide–\\noxygen) (but indication not recommended in infants and \\nchildren of all ages):  Agent is pungent, hence risk of \\ncough and bronchospasms.\\nAdult\\nBy inhalation: Initially 0.5%, increased to 3%, adjusted \\naccording to response, administered using specifically \\ncalibrated vaporizer')]}\n"
          ]
        }
      ],
      "source": [
        "# Pass the sample question to the the RAG\n",
        "response = qa(query)\n",
        "\n",
        "# Print response\n",
        "print(response)"
      ]
    },
    {
      "cell_type": "code",
      "execution_count": null,
      "metadata": {
        "id": "2I1R13ik1YNX"
      },
      "outputs": [],
      "source": [
        "answer = response['result']\n",
        "source_document = response['source_documents'][0].page_content\n",
        "doc = response['source_documents'][0].metadata['source']\n",
        "doc_page = response['source_documents'][0].metadata['page']"
      ]
    },
    {
      "cell_type": "code",
      "execution_count": null,
      "metadata": {
        "id": "MKS4LXr0KDu-"
      },
      "outputs": [],
      "source": [
        "# Configure pretty print\n",
        "import pprint\n",
        "pp = pprint.PrettyPrinter(indent=4, width=80, depth=None, compact=False)\n"
      ]
    },
    {
      "cell_type": "code",
      "execution_count": null,
      "metadata": {
        "colab": {
          "base_uri": "https://localhost:8080/"
        },
        "id": "7doz5LgeJsk9",
        "outputId": "ffb87fb4-999d-4373-bd17-a5afd34f6c37"
      },
      "outputs": [
        {
          "name": "stdout",
          "output_type": "stream",
          "text": [
            "('Halothane (Fluothane) is a  volatile\\n'\n",
            " 'anaesthetic agent that has been used since 1956, \\n'\n",
            " 'and is still in clinical use as of today. Halothane \\n'\n",
            " 'is an alkyl halide with the formula C2F4BrCH3. It \\n'\n",
            " 'is a colourlessensuresulifies from mimparts with the only requires toxic and '\n",
            " 'other volat room temperature (halothers as a colourless frequently referred '\n",
            " 'to produce the simplest molecular volume is structuronset the  has a '\n",
            " 'molecannotates from bubiquenforces, like En route into air) but it is used '\n",
            " 'inhappears its chemical structure consists of halogeniclends with other '\n",
            " 'halogenousingests with one carbonate.\\n'\n",
            " 'is colourless potenters as ana colourless frequently induces a liquid form a '\n",
            " 'powerful solubiquidupharmescapitulizes like  belongs to mimproved and '\n",
            " 'dipsychlooses fluorallylays to the molecularlysometimes is '\n",
            " 'structuranestabranges its formula is a volatoms inhibitself produces a very '\n",
            " 'easily evaporates into an agent with ')\n"
          ]
        }
      ],
      "source": [
        "# Print answer\n",
        "pp.pprint(answer)"
      ]
    },
    {
      "cell_type": "code",
      "execution_count": null,
      "metadata": {
        "colab": {
          "base_uri": "https://localhost:8080/"
        },
        "id": "MnzTkcFTJugY",
        "outputId": "51b68b05-db32-461f-9469-4c38265a8c95"
      },
      "outputs": [
        {
          "name": "stdout",
          "output_type": "stream",
          "text": [
            "unexplained pyrexia or jaundice following previous \n",
            "exposure to halothane.\n",
            "Adverse\teffects:\tBradycardia, respiratory depression, \n",
            "arrhythmias, hepatitis (may be fatal)\n",
            "Interactions with other medicines (*indicates serious): \n",
            "Amitriptyline, *chlorpromazine, diazepam, enalapril, \n",
            "epinephrine (adrenaline), *fluphenazine, furosemide, \n",
            "*haloperidol, isoniazid, *levodopa, spironolactone, \n",
            "suxamethonium, vancomycin, vecuronium, *verapamilNotes\n",
            " » Does not augment salivary or bronchial \n",
            "secretions\n",
            " » Cardiac sensitization to the effects of \n",
            "catecholamines\n",
            "Isoflurane\t\n",
            "ATC code:  N01AB06\n",
            "Inhalation, 100% inhalation vapour liquid, 250 mL, LOU 4\n",
            "Indications and dose\n",
            "Induction of anaesthesia (in oxygen or nitrous oxide–\n",
            "oxygen) (but indication not recommended in infants and \n",
            "children of all ages):  Agent is pungent, hence risk of \n",
            "cough and bronchospasms.\n",
            "Adult\n",
            "By inhalation: Initially 0.5%, increased to 3%, adjusted \n",
            "according to response, administered using specifically \n",
            "calibrated vaporizer\n"
          ]
        }
      ],
      "source": [
        "# Print source document\n",
        "print(source_document)"
      ]
    },
    {
      "cell_type": "code",
      "execution_count": null,
      "metadata": {
        "colab": {
          "base_uri": "https://localhost:8080/"
        },
        "id": "a7oD5RR2LFOU",
        "outputId": "c5dcaa1e-c56f-468f-9f94-893cad543963"
      },
      "outputs": [
        {
          "name": "stdout",
          "output_type": "stream",
          "text": [
            "19\n"
          ]
        }
      ],
      "source": [
        "# Print sourcr page number\n",
        "print(doc_page)"
      ]
    },
    {
      "cell_type": "code",
      "execution_count": null,
      "metadata": {
        "id": "XcuELK6ILGlg"
      },
      "outputs": [],
      "source": []
    }
  ],
  "metadata": {
    "accelerator": "GPU",
    "colab": {
      "gpuType": "T4",
      "machine_shape": "hm",
      "provenance": []
    },
    "kernelspec": {
      "display_name": "Python 3",
      "name": "python3"
    },
    "language_info": {
      "name": "python"
    }
  },
  "nbformat": 4,
  "nbformat_minor": 0
}
